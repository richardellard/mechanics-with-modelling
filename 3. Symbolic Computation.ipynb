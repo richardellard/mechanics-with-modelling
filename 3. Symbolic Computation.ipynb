{
 "cells": [
  {
   "cell_type": "markdown",
   "metadata": {},
   "source": [
    "# Symbolic computation with `sympy`"
   ]
  },
  {
   "cell_type": "markdown",
   "metadata": {},
   "source": [
    "Symbolic (as opposed to numeric) computation can be accomplished in Python using the `sympy` package. The `init_printing` function allows the output to be formatted using *MathJax*."
   ]
  },
  {
   "cell_type": "code",
   "execution_count": 1,
   "metadata": {},
   "outputs": [],
   "source": [
    "from sympy import init_printing, Symbol, symbols, Function, sin, cos, tan, exp, oo, Eq\n",
    "\n",
    "init_printing()"
   ]
  },
  {
   "cell_type": "markdown",
   "metadata": {},
   "source": [
    "We must explicitly state which Python variables correspond to mathematical symbols:"
   ]
  },
  {
   "cell_type": "code",
   "execution_count": 2,
   "metadata": {},
   "outputs": [
    {
     "data": {
      "image/png": "[encoded data removed]",
      "text/latex": [
       "$$e^{- x} \\sin{\\left (x + 1 \\right )}$$"
      ],
      "text/plain": [
       " -x           \n",
       "ℯ  ⋅sin(x + 1)"
      ]
     },
     "execution_count": 2,
     "metadata": {},
     "output_type": "execute_result"
    }
   ],
   "source": [
    "x = Symbol('x')\n",
    "\n",
    "sin(x+1)/exp(x)"
   ]
  },
  {
   "cell_type": "code",
   "execution_count": 3,
   "metadata": {},
   "outputs": [
    {
     "data": {
      "image/png": "[encoded data removed]",
      "text/latex": [
       "$$e^{- \\theta_{0}} \\sin{\\left (\\theta_{0} + 1 \\right )}$$"
      ],
      "text/plain": [
       " -θ₀            \n",
       "ℯ   ⋅sin(θ₀ + 1)"
      ]
     },
     "execution_count": 3,
     "metadata": {},
     "output_type": "execute_result"
    }
   ],
   "source": [
    "t0 = Symbol('theta_0')\n",
    "\n",
    "sin(t0+1)/exp(t0)"
   ]
  },
  {
   "cell_type": "markdown",
   "metadata": {},
   "source": [
    "In the above, `theta_0` produces the symbol $\\theta_0$ in *LaTeX*. `sympy` understands this and displays the symbol correctly."
   ]
  },
  {
   "cell_type": "markdown",
   "metadata": {},
   "source": [
    "The `symbols` function (note the lowercase \"s\") allows us to define several symbols at once:"
   ]
  },
  {
   "cell_type": "code",
   "execution_count": 4,
   "metadata": {},
   "outputs": [],
   "source": [
    "a, b, c, x, y, z = symbols('a, b, c, x, y, z')"
   ]
  },
  {
   "cell_type": "markdown",
   "metadata": {},
   "source": [
    "# Solving equations"
   ]
  },
  {
   "cell_type": "markdown",
   "metadata": {},
   "source": [
    "A symbolic expression (equal to zero) can be solved for any one of the symbols it contains using the `solve` function:"
   ]
  },
  {
   "cell_type": "code",
   "execution_count": 5,
   "metadata": {},
   "outputs": [
    {
     "data": {
      "image/png": "[encoded data removed]",
      "text/latex": [
       "$$\\left [ \\frac{- b + \\sqrt{- 4 a c + b^{2}}}{2 a}, \\quad - \\frac{b + \\sqrt{- 4 a c + b^{2}}}{2 a}\\right ]$$"
      ],
      "text/plain": [
       "⎡        _____________   ⎛       _____________⎞ ⎤\n",
       "⎢       ╱           2    ⎜      ╱           2 ⎟ ⎥\n",
       "⎢-b + ╲╱  -4⋅a⋅c + b    -⎝b + ╲╱  -4⋅a⋅c + b  ⎠ ⎥\n",
       "⎢─────────────────────, ────────────────────────⎥\n",
       "⎣         2⋅a                     2⋅a           ⎦"
      ]
     },
     "execution_count": 5,
     "metadata": {},
     "output_type": "execute_result"
    }
   ],
   "source": [
    "from sympy import solve\n",
    "\n",
    "solve(a*x**2 + b*x + c, x)"
   ]
  },
  {
   "cell_type": "markdown",
   "metadata": {},
   "source": [
    "By default, `solve` presents its solutions as a list, but a dictionary presentation is also available:"
   ]
  },
  {
   "cell_type": "code",
   "execution_count": 6,
   "metadata": {},
   "outputs": [
    {
     "data": {
      "image/png": "[encoded data removed]",
      "text/latex": [
       "$$\\left [ \\left \\{ x : \\frac{- b + \\sqrt{- 4 a c + b^{2}}}{2 a}\\right \\}, \\quad \\left \\{ x : - \\frac{b + \\sqrt{- 4 a c + b^{2}}}{2 a}\\right \\}\\right ]$$"
      ],
      "text/plain": [
       "⎡⎧           _____________⎫  ⎧    ⎛       _____________⎞ ⎫⎤\n",
       "⎢⎪          ╱           2 ⎪  ⎪    ⎜      ╱           2 ⎟ ⎪⎥\n",
       "⎢⎨   -b + ╲╱  -4⋅a⋅c + b  ⎬  ⎨   -⎝b + ╲╱  -4⋅a⋅c + b  ⎠ ⎬⎥\n",
       "⎢⎪x: ─────────────────────⎪, ⎪x: ────────────────────────⎪⎥\n",
       "⎣⎩            2⋅a         ⎭  ⎩             2⋅a           ⎭⎦"
      ]
     },
     "execution_count": 6,
     "metadata": {},
     "output_type": "execute_result"
    }
   ],
   "source": [
    "solve(a*x**2 + b*x + c, x, dict=True)"
   ]
  },
  {
   "cell_type": "markdown",
   "metadata": {},
   "source": [
    "We can also solve a system of equations:"
   ]
  },
  {
   "cell_type": "code",
   "execution_count": 7,
   "metadata": {},
   "outputs": [
    {
     "data": {
      "image/png": "[encoded data removed]",
      "text/latex": [
       "$$\\left [ \\left \\{ x : - 2 \\sqrt{z} + 2 z, \\quad y : 2 \\sqrt{z}\\right \\}, \\quad \\left \\{ x : 2 \\sqrt{z} + 2 z, \\quad y : - 2 \\sqrt{z}\\right \\}\\right ]$$"
      ],
      "text/plain": [
       "[{x: -2⋅√z + 2⋅z, y: 2⋅√z}, {x: 2⋅√z + 2⋅z, y: -2⋅√z}]"
      ]
     },
     "execution_count": 7,
     "metadata": {},
     "output_type": "execute_result"
    }
   ],
   "source": [
    "solve([x + y - 2*z, y**2 - 4*z], [x, y], dict=True)"
   ]
  },
  {
   "cell_type": "markdown",
   "metadata": {},
   "source": [
    "Rather than assuming all expressions are equal to zero, we can explicitly create symbolic equations if we wish:"
   ]
  },
  {
   "cell_type": "code",
   "execution_count": 8,
   "metadata": {},
   "outputs": [
    {
     "data": {
      "image/png": "[encoded data removed]",
      "text/latex": [
       "$$\\left [ \\frac{- b + \\sqrt{- 4 a c + b^{2}}}{2 a}, \\quad - \\frac{b + \\sqrt{- 4 a c + b^{2}}}{2 a}\\right ]$$"
      ],
      "text/plain": [
       "⎡        _____________   ⎛       _____________⎞ ⎤\n",
       "⎢       ╱           2    ⎜      ╱           2 ⎟ ⎥\n",
       "⎢-b + ╲╱  -4⋅a⋅c + b    -⎝b + ╲╱  -4⋅a⋅c + b  ⎠ ⎥\n",
       "⎢─────────────────────, ────────────────────────⎥\n",
       "⎣         2⋅a                     2⋅a           ⎦"
      ]
     },
     "execution_count": 8,
     "metadata": {},
     "output_type": "execute_result"
    }
   ],
   "source": [
    "solve(Eq(a*x**2 + b*x, -c), x)"
   ]
  },
  {
   "cell_type": "markdown",
   "metadata": {},
   "source": [
    "# Calculus"
   ]
  },
  {
   "cell_type": "code",
   "execution_count": 9,
   "metadata": {},
   "outputs": [],
   "source": [
    "from sympy import diff, integrate"
   ]
  },
  {
   "cell_type": "markdown",
   "metadata": {},
   "source": [
    "To take derivatives, we use the `diff` function, specifying the variable we wish to differentiate with respect to:"
   ]
  },
  {
   "cell_type": "code",
   "execution_count": 10,
   "metadata": {},
   "outputs": [
    {
     "data": {
      "image/png": "[encoded data removed]",
      "text/latex": [
       "$$- \\sin{\\left (x \\right )}$$"
      ],
      "text/plain": [
       "-sin(x)"
      ]
     },
     "execution_count": 10,
     "metadata": {},
     "output_type": "execute_result"
    }
   ],
   "source": [
    "diff(cos(x), x)"
   ]
  },
  {
   "cell_type": "markdown",
   "metadata": {},
   "source": [
    "To take the second derivative, we differentiate with respect to $x$ twice:"
   ]
  },
  {
   "cell_type": "code",
   "execution_count": 11,
   "metadata": {},
   "outputs": [
    {
     "data": {
      "image/png": "[encoded data removed]",
      "text/latex": [
       "$$- \\cos{\\left (x \\right )}$$"
      ],
      "text/plain": [
       "-cos(x)"
      ]
     },
     "execution_count": 11,
     "metadata": {},
     "output_type": "execute_result"
    }
   ],
   "source": [
    "diff(cos(x), x, x)"
   ]
  },
  {
   "cell_type": "markdown",
   "metadata": {},
   "source": [
    "Integration is similar:"
   ]
  },
  {
   "cell_type": "code",
   "execution_count": 12,
   "metadata": {},
   "outputs": [
    {
     "data": {
      "image/png": "[encoded data removed]",
      "text/latex": [
       "$$\\sin{\\left (x \\right )}$$"
      ],
      "text/plain": [
       "sin(x)"
      ]
     },
     "execution_count": 12,
     "metadata": {},
     "output_type": "execute_result"
    }
   ],
   "source": [
    "integrate(cos(x), x)"
   ]
  },
  {
   "cell_type": "markdown",
   "metadata": {},
   "source": [
    "Definite integrals are performed as follows. Let's compute"
   ]
  },
  {
   "cell_type": "markdown",
   "metadata": {},
   "source": [
    "$$\n",
    "    \\int_0^\\infty e^{-x}\\,dx.\n",
    "$$"
   ]
  },
  {
   "cell_type": "code",
   "execution_count": 13,
   "metadata": {
    "scrolled": true
   },
   "outputs": [
    {
     "data": {
      "image/png": "[encoded data removed]",
      "text/latex": [
       "$$1$$"
      ],
      "text/plain": [
       "1"
      ]
     },
     "execution_count": 13,
     "metadata": {},
     "output_type": "execute_result"
    }
   ],
   "source": [
    "integrate(exp(-x), (x, 0, oo))"
   ]
  },
  {
   "cell_type": "markdown",
   "metadata": {},
   "source": [
    "**Note:** Sympy uses a double lowercase o (\"oh\") to denote infinity, as seen above."
   ]
  },
  {
   "cell_type": "markdown",
   "metadata": {},
   "source": [
    "# Differential equations"
   ]
  },
  {
   "cell_type": "code",
   "execution_count": 14,
   "metadata": {},
   "outputs": [],
   "source": [
    "from sympy import Derivative, dsolve"
   ]
  },
  {
   "cell_type": "markdown",
   "metadata": {},
   "source": [
    "Differential equations can be solved directly (`sympy` uses several methods under the hood).\n",
    "\n",
    "First, we must specify that $f$ is some (as yet unknown) function:"
   ]
  },
  {
   "cell_type": "code",
   "execution_count": 15,
   "metadata": {},
   "outputs": [],
   "source": [
    "f = Function('f')\n",
    "t = Symbol('t')"
   ]
  },
  {
   "cell_type": "markdown",
   "metadata": {},
   "source": [
    "Now, `Derivative(f(t), t)` and `Derivative(f(t), t, t)` represent the first and second derivatives, respectively."
   ]
  },
  {
   "cell_type": "code",
   "execution_count": 16,
   "metadata": {},
   "outputs": [
    {
     "data": {
      "image/png": "[encoded data removed]",
      "text/latex": [
       "$$\\frac{d}{d t} f{\\left (t \\right )}$$"
      ],
      "text/plain": [
       "d       \n",
       "──(f(t))\n",
       "dt      "
      ]
     },
     "execution_count": 16,
     "metadata": {},
     "output_type": "execute_result"
    }
   ],
   "source": [
    "Derivative(f(t), t)"
   ]
  },
  {
   "cell_type": "code",
   "execution_count": 17,
   "metadata": {},
   "outputs": [
    {
     "data": {
      "image/png": "[encoded data removed]",
      "text/latex": [
       "$$\\frac{d^{2}}{d t^{2}} f{\\left (t \\right )}$$"
      ],
      "text/plain": [
       "  2      \n",
       " d       \n",
       "───(f(t))\n",
       "  2      \n",
       "dt       "
      ]
     },
     "execution_count": 17,
     "metadata": {},
     "output_type": "execute_result"
    }
   ],
   "source": [
    "Derivative(f(t), t, t)"
   ]
  },
  {
   "cell_type": "markdown",
   "metadata": {},
   "source": [
    "Alternatively, you can use `f(t).diff(t)` and `f(t).diff(t, t)`."
   ]
  },
  {
   "cell_type": "code",
   "execution_count": 18,
   "metadata": {},
   "outputs": [
    {
     "data": {
      "image/png": "[encoded data removed]",
      "text/latex": [
       "$$\\frac{d}{d t} f{\\left (t \\right )}$$"
      ],
      "text/plain": [
       "d       \n",
       "──(f(t))\n",
       "dt      "
      ]
     },
     "execution_count": 18,
     "metadata": {},
     "output_type": "execute_result"
    }
   ],
   "source": [
    "f(t).diff(t)"
   ]
  },
  {
   "cell_type": "code",
   "execution_count": 19,
   "metadata": {},
   "outputs": [
    {
     "data": {
      "image/png": "[encoded data removed]",
      "text/latex": [
       "$$\\frac{d^{2}}{d t^{2}} f{\\left (t \\right )}$$"
      ],
      "text/plain": [
       "  2      \n",
       " d       \n",
       "───(f(t))\n",
       "  2      \n",
       "dt       "
      ]
     },
     "execution_count": 19,
     "metadata": {},
     "output_type": "execute_result"
    }
   ],
   "source": [
    "f(t).diff(t, t)"
   ]
  },
  {
   "cell_type": "markdown",
   "metadata": {},
   "source": [
    "Let's solve the second-order differential equation\n",
    "$$\n",
    "    f''(t)-f'(t)-6f(t)=e^t.\n",
    "$$\n",
    "for $f(t)$ using the `dsolve` function."
   ]
  },
  {
   "cell_type": "code",
   "execution_count": 20,
   "metadata": {},
   "outputs": [
    {
     "data": {
      "image/png": "[encoded data removed]",
      "text/latex": [
       "$$f{\\left (t \\right )} = C_{1} e^{- 2 t} + C_{2} e^{3 t} - \\frac{e^{t}}{6}$$"
      ],
      "text/plain": [
       "                             t\n",
       "           -2⋅t       3⋅t   ℯ \n",
       "f(t) = C₁⋅ℯ     + C₂⋅ℯ    - ──\n",
       "                            6 "
      ]
     },
     "execution_count": 20,
     "metadata": {},
     "output_type": "execute_result"
    }
   ],
   "source": [
    "dsolve(Derivative(f(t), t, t) - Derivative(f(t), t) - 6*f(t) - exp(t), f(t))"
   ]
  },
  {
   "cell_type": "markdown",
   "metadata": {},
   "source": [
    "Now suppose we want to find the particular solution satisfying the initial conditions\n",
    "$$\n",
    "    f(0)=f'(0)=0.\n",
    "$$"
   ]
  },
  {
   "cell_type": "code",
   "execution_count": 21,
   "metadata": {},
   "outputs": [
    {
     "data": {
      "image/png": "[encoded data removed]",
      "text/latex": [
       "$$f{\\left (t \\right )} = \\frac{e^{3 t}}{10} - \\frac{e^{t}}{6} + \\frac{e^{- 2 t}}{15}$$"
      ],
      "text/plain": [
       "        3⋅t    t    -2⋅t\n",
       "       ℯ      ℯ    ℯ    \n",
       "f(t) = ──── - ── + ─────\n",
       "        10    6      15 "
      ]
     },
     "execution_count": 21,
     "metadata": {},
     "output_type": "execute_result"
    }
   ],
   "source": [
    "conditions = {f(0): 0, Derivative(f(t),t).subs(t, 0): 0} # a Python dictionary\n",
    "\n",
    "dsolve(Derivative(f(t), t, t) - Derivative(f(t), t) - 6*f(t) - exp(t), f(t), ics=conditions)"
   ]
  },
  {
   "cell_type": "markdown",
   "metadata": {},
   "source": [
    "**Note:** In the above, `.subs(t, 0)` substituted the value 0 into the mathematical expression for $f'(t)$.\n",
    "\n",
    "Actually, we can use `subs` more generally:"
   ]
  },
  {
   "cell_type": "code",
   "execution_count": 22,
   "metadata": {},
   "outputs": [
    {
     "data": {
      "image/png": "[encoded data removed]",
      "text/latex": [
       "$$x^{2} + x + 2$$"
      ],
      "text/plain": [
       " 2        \n",
       "x  + x + 2"
      ]
     },
     "execution_count": 22,
     "metadata": {},
     "output_type": "execute_result"
    }
   ],
   "source": [
    "F = x**2 + x + 2\n",
    "F"
   ]
  },
  {
   "cell_type": "code",
   "execution_count": 23,
   "metadata": {},
   "outputs": [
    {
     "data": {
      "image/png": "[encoded data removed]",
      "text/latex": [
       "$$t^{2} + t + 2$$"
      ],
      "text/plain": [
       " 2        \n",
       "t  + t + 2"
      ]
     },
     "execution_count": 23,
     "metadata": {},
     "output_type": "execute_result"
    }
   ],
   "source": [
    "F.subs(x, t)"
   ]
  },
  {
   "cell_type": "code",
   "execution_count": 24,
   "metadata": {},
   "outputs": [
    {
     "data": {
      "image/png": "[encoded data removed]",
      "text/latex": [
       "$$22$$"
      ],
      "text/plain": [
       "22"
      ]
     },
     "execution_count": 24,
     "metadata": {},
     "output_type": "execute_result"
    }
   ],
   "source": [
    "F.subs(x, 4)"
   ]
  },
  {
   "cell_type": "markdown",
   "metadata": {},
   "source": [
    "# Shot put problem revisited"
   ]
  },
  {
   "cell_type": "markdown",
   "metadata": {},
   "source": [
    "Recall that the trajectory of a projectile fired from the origin and subject to earth's gravity is given by\n",
    "$$\n",
    "    y=(\\tan\\theta_0)x-\\frac{gx^2}{2(v_0\\cos\\theta_0)^2},\n",
    "$$\n",
    "where $v_0$ is the launch speed and $\\theta_0$ is the launch angle (above the horizontal). When launched from the ground and neglecting air resistance, the horizontal distance traveled by the projectile (its *range*) was maximised by taking $\\theta_0=45^\\circ$.\n",
    "\n",
    "Let us now compute the optimal launch angle when the projectile is fired from a height $h$ above the ground. If the projectile is fired from the origin, the point of impact with the ground is given by $(x,y)=(R,-h)$. Hence, the range $R$ can be determined from the equation\n",
    "$$\n",
    "    0=h+(\\tan\\theta_0)R-\\frac{gR^2}{2(v_0\\cos\\theta_0)^2}.\\tag{1}\n",
    "$$\n",
    "Considering (1) as the (implicit) definition of the function $R(\\theta_0)$, we can differentiate both sides with respect to $\\theta_0$. In order for `sympy` to perform the implicit differentiation correctly, we must specify that $R$ is a function of $\\theta_0$."
   ]
  },
  {
   "cell_type": "code",
   "execution_count": 25,
   "metadata": {},
   "outputs": [
    {
     "data": {
      "image/png": "[encoded data removed]",
      "text/latex": [
       "$$- \\frac{g R^{2}{\\left (\\theta_{0} \\right )}}{2 v_{0}^{2} \\cos^{2}{\\left (\\theta_{0} \\right )}} + h + R{\\left (\\theta_{0} \\right )} \\tan{\\left (\\theta_{0} \\right )}$$"
      ],
      "text/plain": [
       "        2                           \n",
       "     g⋅R (θ₀)                       \n",
       "- ────────────── + h + R(θ₀)⋅tan(θ₀)\n",
       "      2    2                        \n",
       "  2⋅v₀ ⋅cos (θ₀)                    "
      ]
     },
     "execution_count": 25,
     "metadata": {},
     "output_type": "execute_result"
    }
   ],
   "source": [
    "h, v0, theta0, g = symbols('h, v_0, theta_0, g')\n",
    "R = Function('R')(theta0)\n",
    "\n",
    "RHS = h + tan(theta0)*R - g*R**2/(2*(v0*cos(theta0))**2)\n",
    "RHS"
   ]
  },
  {
   "cell_type": "code",
   "execution_count": 26,
   "metadata": {},
   "outputs": [
    {
     "data": {
      "image/png": "[encoded data removed]",
      "text/latex": [
       "$$- \\frac{g R^{2}{\\left (\\theta_{0} \\right )} \\sin{\\left (\\theta_{0} \\right )}}{v_{0}^{2} \\cos^{3}{\\left (\\theta_{0} \\right )}} - \\frac{g R{\\left (\\theta_{0} \\right )} \\frac{d}{d \\theta_{0}} R{\\left (\\theta_{0} \\right )}}{v_{0}^{2} \\cos^{2}{\\left (\\theta_{0} \\right )}} + \\left(\\tan^{2}{\\left (\\theta_{0} \\right )} + 1\\right) R{\\left (\\theta_{0} \\right )} + \\tan{\\left (\\theta_{0} \\right )} \\frac{d}{d \\theta_{0}} R{\\left (\\theta_{0} \\right )}$$"
      ],
      "text/plain": [
       "                              d                                               \n",
       "     2               g⋅R(θ₀)⋅───(R(θ₀))                                       \n",
       "  g⋅R (θ₀)⋅sin(θ₀)           dθ₀          ⎛   2        ⎞                  d   \n",
       "- ──────────────── - ────────────────── + ⎝tan (θ₀) + 1⎠⋅R(θ₀) + tan(θ₀)⋅───(R\n",
       "      2    3              2    2                                         dθ₀  \n",
       "    v₀ ⋅cos (θ₀)        v₀ ⋅cos (θ₀)                                          \n",
       "\n",
       "     \n",
       "     \n",
       "     \n",
       "(θ₀))\n",
       "     \n",
       "     "
      ]
     },
     "execution_count": 26,
     "metadata": {},
     "output_type": "execute_result"
    }
   ],
   "source": [
    "d = diff(RHS, theta0)\n",
    "d"
   ]
  },
  {
   "cell_type": "code",
   "execution_count": 27,
   "metadata": {
    "scrolled": true
   },
   "outputs": [
    {
     "data": {
      "image/png": "[encoded data removed]",
      "text/latex": [
       "$$\\left [ \\left \\{ \\frac{d}{d \\theta_{0}} R{\\left (\\theta_{0} \\right )} : \\frac{\\left(- g R{\\left (\\theta_{0} \\right )} \\tan{\\left (\\theta_{0} \\right )} + v_{0}^{2}\\right) R{\\left (\\theta_{0} \\right )}}{g R{\\left (\\theta_{0} \\right )} - v_{0}^{2} \\sin{\\left (\\theta_{0} \\right )} \\cos{\\left (\\theta_{0} \\right )}}\\right \\}\\right ]$$"
      ],
      "text/plain": [
       "⎡⎧            ⎛                     2⎞      ⎫⎤\n",
       "⎢⎪ d          ⎝-g⋅R(θ₀)⋅tan(θ₀) + v₀ ⎠⋅R(θ₀)⎪⎥\n",
       "⎢⎨───(R(θ₀)): ──────────────────────────────⎬⎥\n",
       "⎢⎪dθ₀                     2                 ⎪⎥\n",
       "⎣⎩            g⋅R(θ₀) - v₀ ⋅sin(θ₀)⋅cos(θ₀) ⎭⎦"
      ]
     },
     "execution_count": 27,
     "metadata": {},
     "output_type": "execute_result"
    }
   ],
   "source": [
    "d_R_d_theta0 = solve(d, R.diff(theta0), dict=True) # list containing only one solution\n",
    "d_R_d_theta0"
   ]
  },
  {
   "cell_type": "markdown",
   "metadata": {},
   "source": [
    "Let's store the above expression on its own, rather than wrapped in a dictionary and a list:"
   ]
  },
  {
   "cell_type": "code",
   "execution_count": 28,
   "metadata": {},
   "outputs": [
    {
     "data": {
      "image/png": "[encoded data removed]",
      "text/latex": [
       "$$\\frac{\\left(- g R{\\left (\\theta_{0} \\right )} \\tan{\\left (\\theta_{0} \\right )} + v_{0}^{2}\\right) R{\\left (\\theta_{0} \\right )}}{g R{\\left (\\theta_{0} \\right )} - v_{0}^{2} \\sin{\\left (\\theta_{0} \\right )} \\cos{\\left (\\theta_{0} \\right )}}$$"
      ],
      "text/plain": [
       "⎛                     2⎞      \n",
       "⎝-g⋅R(θ₀)⋅tan(θ₀) + v₀ ⎠⋅R(θ₀)\n",
       "──────────────────────────────\n",
       "            2                 \n",
       "g⋅R(θ₀) - v₀ ⋅sin(θ₀)⋅cos(θ₀) "
      ]
     },
     "execution_count": 28,
     "metadata": {},
     "output_type": "execute_result"
    }
   ],
   "source": [
    "d_R_d_theta0 = solve(d, R.diff(theta0))[0] # list containing only one solution\n",
    "d_R_d_theta0"
   ]
  },
  {
   "cell_type": "markdown",
   "metadata": {},
   "source": [
    "We maximise the range by setting the above derivative equal to zero."
   ]
  },
  {
   "cell_type": "code",
   "execution_count": 29,
   "metadata": {},
   "outputs": [
    {
     "data": {
      "image/png": "[encoded data removed]",
      "text/latex": [
       "$$\\left [ 0, \\quad \\frac{v_{0}^{2}}{g \\tan{\\left (\\theta_{0} \\right )}}\\right ]$$"
      ],
      "text/plain": [
       "⎡        2   ⎤\n",
       "⎢      v₀    ⎥\n",
       "⎢0, ─────────⎥\n",
       "⎣   g⋅tan(θ₀)⎦"
      ]
     },
     "execution_count": 29,
     "metadata": {},
     "output_type": "execute_result"
    }
   ],
   "source": [
    "R_sols = solve(d_R_d_theta0, R)\n",
    "R_sols"
   ]
  },
  {
   "cell_type": "markdown",
   "metadata": {},
   "source": [
    "So, for maximum $R(\\theta_0)$,\n",
    "$$\n",
    "    R(\\theta_0)=\\frac{v_0^2}{g\\tan{\\theta_0}}.\n",
    "$$\n",
    "Let's sub this back into (1) and then solve for $\\theta_0$:"
   ]
  },
  {
   "cell_type": "code",
   "execution_count": 30,
   "metadata": {},
   "outputs": [
    {
     "data": {
      "image/png": "[encoded data removed]",
      "text/latex": [
       "$$\\frac{2 g h + v_{0}^{2} - \\frac{v_{0}^{2}}{\\tan^{2}{\\left (\\theta_{0} \\right )}}}{2 g}$$"
      ],
      "text/plain": [
       "                  2   \n",
       "          2     v₀    \n",
       "2⋅g⋅h + v₀  - ────────\n",
       "                 2    \n",
       "              tan (θ₀)\n",
       "──────────────────────\n",
       "         2⋅g          "
      ]
     },
     "execution_count": 30,
     "metadata": {},
     "output_type": "execute_result"
    }
   ],
   "source": [
    "R_sol = R_sols[1]\n",
    "rhs = RHS.subs(R, R_sol).simplify()\n",
    "rhs"
   ]
  },
  {
   "cell_type": "code",
   "execution_count": 31,
   "metadata": {},
   "outputs": [
    {
     "data": {
      "image/png": "[encoded data removed]",
      "text/latex": [
       "$$\\left [ - \\operatorname{atan}{\\left (v_{0} \\sqrt{\\frac{1}{2 g h + v_{0}^{2}}} \\right )}, \\quad \\operatorname{atan}{\\left (v_{0} \\sqrt{\\frac{1}{2 g h + v_{0}^{2}}} \\right )}\\right ]$$"
      ],
      "text/plain": [
       "⎡     ⎛        _____________⎞      ⎛        _____________⎞⎤\n",
       "⎢     ⎜       ╱      1      ⎟      ⎜       ╱      1      ⎟⎥\n",
       "⎢-atan⎜v₀⋅   ╱  ─────────── ⎟, atan⎜v₀⋅   ╱  ─────────── ⎟⎥\n",
       "⎢     ⎜     ╱             2 ⎟      ⎜     ╱             2 ⎟⎥\n",
       "⎣     ⎝   ╲╱    2⋅g⋅h + v₀  ⎠      ⎝   ╲╱    2⋅g⋅h + v₀  ⎠⎦"
      ]
     },
     "execution_count": 31,
     "metadata": {},
     "output_type": "execute_result"
    }
   ],
   "source": [
    "sols = solve(rhs, theta0)\n",
    "sols"
   ]
  },
  {
   "cell_type": "markdown",
   "metadata": {},
   "source": [
    "Sanity check: when $h=0$, we have $\\theta_0=\\tan^{-1}(1)=45^\\circ$, so we take the latter solution:"
   ]
  },
  {
   "cell_type": "code",
   "execution_count": 32,
   "metadata": {},
   "outputs": [
    {
     "data": {
      "image/png": "[encoded data removed]",
      "text/latex": [
       "$$\\operatorname{atan}{\\left (v_{0} \\sqrt{\\frac{1}{2 g h + v_{0}^{2}}} \\right )}$$"
      ],
      "text/plain": [
       "    ⎛        _____________⎞\n",
       "    ⎜       ╱      1      ⎟\n",
       "atan⎜v₀⋅   ╱  ─────────── ⎟\n",
       "    ⎜     ╱             2 ⎟\n",
       "    ⎝   ╲╱    2⋅g⋅h + v₀  ⎠"
      ]
     },
     "execution_count": 32,
     "metadata": {},
     "output_type": "execute_result"
    }
   ],
   "source": [
    "sol = sols[1]\n",
    "sol"
   ]
  },
  {
   "cell_type": "markdown",
   "metadata": {},
   "source": [
    "**Observe:** the taller the athlete, the smaller the optimal launch angle. Let's plug in some realistic numbers for Olympic shot put:"
   ]
  },
  {
   "cell_type": "code",
   "execution_count": 33,
   "metadata": {},
   "outputs": [
    {
     "data": {
      "image/png": "[encoded data removed]",
      "text/latex": [
       "$$44.6539021146367$$"
      ],
      "text/plain": [
       "44.6539021146367"
      ]
     },
     "execution_count": 33,
     "metadata": {},
     "output_type": "execute_result"
    }
   ],
   "source": [
    "import math\n",
    "\n",
    "# show answer in degrees, rather than radians:\n",
    "math.degrees(sol.subs([(h, 1.8), (v0, 38), (g, 9.81)]))"
   ]
  },
  {
   "cell_type": "markdown",
   "metadata": {},
   "source": [
    "As we can see, the height of the athlete does not greatly impact the optimal launch angle."
   ]
  },
  {
   "cell_type": "markdown",
   "metadata": {},
   "source": [
    "# Problems"
   ]
  },
  {
   "cell_type": "markdown",
   "metadata": {},
   "source": [
    "## Problem 1\n",
    "\n",
    "Use `sympy` to derive all five equations of motion for constant acceleration (recall that we have already done this by hand in class)."
   ]
  },
  {
   "cell_type": "markdown",
   "metadata": {},
   "source": [
    "## Problem 2\n",
    "\n",
    "Let us now consider the impact of air resistance on the optimal launch angle for the shot put. Suppose, as above, that the shot put is launched from a height of $h=1.8$ m above the ground with speed $v_0=38$ m s$^{-1}$ at an angle $\\theta_0$ above the horizontal. Suppose the shot put has a mass of 4 kg, is 10 cm in diameter and has a drag coefficient of $C=0.47$. Assume the density of air is 1.225 kg m$^{-3}$ and acceleration due to gravity at the earth's surface is $g=9.81$ m s$^{-2}$.\n",
    "\n",
    "**(a)** Choose a few different values of $\\theta_0$, and, for each one, numerically compute the trajectory of the shot put (using the `odeint` function). Plot the trajectories on the same graph and compute the approximate range for each trajectory."
   ]
  },
  {
   "cell_type": "markdown",
   "metadata": {},
   "source": [
    "**(b)** [*Difficult problem*] Programmatically compute the range for many different values of $\\theta_0$ and hence find an approximation for the optimal $\\theta_0$."
   ]
  }
 ],
 "metadata": {
  "kernelspec": {
   "display_name": "Python 3",
   "language": "python",
   "name": "python3"
  },
  "language_info": {
   "codemirror_mode": {
    "name": "ipython",
    "version": 3
   },
   "file_extension": ".py",
   "mimetype": "text/x-python",
   "name": "python",
   "nbconvert_exporter": "python",
   "pygments_lexer": "ipython3",
   "version": "3.7.1"
  }
 },
 "nbformat": 4,
 "nbformat_minor": 2
}
