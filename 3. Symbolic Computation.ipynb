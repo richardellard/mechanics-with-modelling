{
 "cells": [
  {
   "cell_type": "markdown",
   "metadata": {},
   "source": [
    "# Symbolic computation with `sympy`"
   ]
  },
  {
   "cell_type": "markdown",
   "metadata": {},
   "source": [
    "Symbolic (as opposed to numeric) computation can be accomplished in Python using the `sympy` package. The `init_printing` function allows the output to be formatted using *MathJax*."
   ]
  },
  {
   "cell_type": "code",
   "execution_count": null,
   "metadata": {},
   "outputs": [],
   "source": [
    "from sympy import init_printing, Symbol, symbols, Function, sin, cos, tan, exp, oo\n",
    "\n",
    "init_printing()"
   ]
  },
  {
   "cell_type": "markdown",
   "metadata": {},
   "source": [
    "We must explicitly state which Python variables correspond to mathematical symbols:"
   ]
  },
  {
   "cell_type": "code",
   "execution_count": null,
   "metadata": {},
   "outputs": [],
   "source": [
    "x = Symbol('x')\n",
    "\n",
    "sin(x+1)/exp(x)"
   ]
  },
  {
   "cell_type": "code",
   "execution_count": null,
   "metadata": {},
   "outputs": [],
   "source": [
    "t0 = Symbol('theta_0')\n",
    "\n",
    "sin(t0+1)/exp(t0)"
   ]
  },
  {
   "cell_type": "markdown",
   "metadata": {},
   "source": [
    "In the above, `theta_0` produces the symbol $\\theta_0$ in *LaTeX*. `sympy` understands this and displays the symbol correctly."
   ]
  },
  {
   "cell_type": "markdown",
   "metadata": {},
   "source": [
    "The `symbols` function (note the lowercase \"s\") allows us to define several symbols at once:"
   ]
  },
  {
   "cell_type": "code",
   "execution_count": null,
   "metadata": {},
   "outputs": [],
   "source": [
    "a, b, c, x, y, z = symbols('a, b, c, x, y, z')"
   ]
  },
  {
   "cell_type": "markdown",
   "metadata": {},
   "source": [
    "# Solving equations"
   ]
  },
  {
   "cell_type": "markdown",
   "metadata": {},
   "source": [
    "A symbolic expression (equal to zero) can be solved for any one of the symbols it contains using the `solve` function:"
   ]
  },
  {
   "cell_type": "code",
   "execution_count": null,
   "metadata": {},
   "outputs": [],
   "source": [
    "from sympy import solve\n",
    "\n",
    "solve(a*x**2 + b*x + c, x)"
   ]
  },
  {
   "cell_type": "markdown",
   "metadata": {},
   "source": [
    "By default, `solve` presents its solutions as a list, but a dictionary presentation is also available:"
   ]
  },
  {
   "cell_type": "code",
   "execution_count": null,
   "metadata": {},
   "outputs": [],
   "source": [
    "solve(a*x**2 + b*x + c, x, dict=True)"
   ]
  },
  {
   "cell_type": "markdown",
   "metadata": {},
   "source": [
    "We can also solve a system of equations:"
   ]
  },
  {
   "cell_type": "code",
   "execution_count": null,
   "metadata": {},
   "outputs": [],
   "source": [
    "solve([x + y - 2*z, y**2 - 4*z], [x, y], dict=True)"
   ]
  },
  {
   "cell_type": "markdown",
   "metadata": {},
   "source": [
    "# Calculus"
   ]
  },
  {
   "cell_type": "code",
   "execution_count": null,
   "metadata": {},
   "outputs": [],
   "source": [
    "from sympy import diff, integrate"
   ]
  },
  {
   "cell_type": "markdown",
   "metadata": {},
   "source": [
    "To take derivatives, we use the `diff` function, specifying the variable we wish to differentiate with respect to:"
   ]
  },
  {
   "cell_type": "code",
   "execution_count": null,
   "metadata": {},
   "outputs": [],
   "source": [
    "diff(cos(x), x)"
   ]
  },
  {
   "cell_type": "markdown",
   "metadata": {},
   "source": [
    "To take the second derivative, we differentiate with respect to $x$ twice:"
   ]
  },
  {
   "cell_type": "code",
   "execution_count": null,
   "metadata": {},
   "outputs": [],
   "source": [
    "diff(cos(x), x, x)"
   ]
  },
  {
   "cell_type": "markdown",
   "metadata": {},
   "source": [
    "Integration is similar:"
   ]
  },
  {
   "cell_type": "code",
   "execution_count": null,
   "metadata": {},
   "outputs": [],
   "source": [
    "integrate(cos(x), x)"
   ]
  },
  {
   "cell_type": "markdown",
   "metadata": {},
   "source": [
    "Definite integrals are performed as follows. Let's compute"
   ]
  },
  {
   "cell_type": "markdown",
   "metadata": {},
   "source": [
    "$$\n",
    "    \\int_0^\\infty e^{-x}\\,dx.\n",
    "$$"
   ]
  },
  {
   "cell_type": "code",
   "execution_count": null,
   "metadata": {
    "scrolled": true
   },
   "outputs": [],
   "source": [
    "integrate(exp(-x), (x, 0, oo))"
   ]
  },
  {
   "cell_type": "markdown",
   "metadata": {},
   "source": [
    "**Note:** Sympy uses a double lowercase o (\"oh\") to denote infinity, as seen above."
   ]
  },
  {
   "cell_type": "markdown",
   "metadata": {},
   "source": [
    "# Differential equations"
   ]
  },
  {
   "cell_type": "code",
   "execution_count": null,
   "metadata": {},
   "outputs": [],
   "source": [
    "from sympy import Derivative, dsolve"
   ]
  },
  {
   "cell_type": "markdown",
   "metadata": {},
   "source": [
    "Differential equations can be solved directly (`sympy` uses several methods under the hood).\n",
    "\n",
    "First, we must specify that $f$ is some (as yet unknown) function:"
   ]
  },
  {
   "cell_type": "code",
   "execution_count": null,
   "metadata": {},
   "outputs": [],
   "source": [
    "f = Function('f')\n",
    "t = Symbol('t')"
   ]
  },
  {
   "cell_type": "markdown",
   "metadata": {},
   "source": [
    "Now, `Derivative(f(t), t)` and `Derivative(f(t), t, t)` represent the first and second derivatives, respectively."
   ]
  },
  {
   "cell_type": "code",
   "execution_count": null,
   "metadata": {},
   "outputs": [],
   "source": [
    "Derivative(f(t), t)"
   ]
  },
  {
   "cell_type": "code",
   "execution_count": null,
   "metadata": {},
   "outputs": [],
   "source": [
    "Derivative(f(t), t, t)"
   ]
  },
  {
   "cell_type": "markdown",
   "metadata": {},
   "source": [
    "Alternatively, you can use `f(t).diff(t)` and `f(t).diff(t, t)`."
   ]
  },
  {
   "cell_type": "code",
   "execution_count": null,
   "metadata": {},
   "outputs": [],
   "source": [
    "f(t).diff(t)"
   ]
  },
  {
   "cell_type": "code",
   "execution_count": null,
   "metadata": {},
   "outputs": [],
   "source": [
    "f(t).diff(t, t)"
   ]
  },
  {
   "cell_type": "markdown",
   "metadata": {},
   "source": [
    "Let's solve the second-order differential equation\n",
    "$$\n",
    "    f''(t)-f'(t)-6f(t)=e^t.\n",
    "$$\n",
    "for $f(t)$ using the `dsolve` function."
   ]
  },
  {
   "cell_type": "code",
   "execution_count": null,
   "metadata": {},
   "outputs": [],
   "source": [
    "dsolve(Derivative(f(t), t, t) - Derivative(f(t), t) - 6*f(t) - exp(t), f(t))"
   ]
  },
  {
   "cell_type": "markdown",
   "metadata": {},
   "source": [
    "Now suppose we want to find the particular solution satisfying the initial conditions\n",
    "$$\n",
    "    f(0)=f'(0)=0.\n",
    "$$"
   ]
  },
  {
   "cell_type": "code",
   "execution_count": null,
   "metadata": {},
   "outputs": [],
   "source": [
    "conditions = {f(0): 0, f(t).diff(t).subs(t, 0): 0} # a Python dictionary\n",
    "\n",
    "dsolve(Derivative(f(t), t, t) - Derivative(f(t), t) - 6*f(t) - exp(t), f(t), ics=conditions)"
   ]
  },
  {
   "cell_type": "markdown",
   "metadata": {},
   "source": [
    "**Note:** In the above, `.subs(t, 0)` substituted the value 0 into the mathematical expression for $f'(t)$.\n",
    "\n",
    "Actually, we can use `subs` more generally:"
   ]
  },
  {
   "cell_type": "code",
   "execution_count": null,
   "metadata": {},
   "outputs": [],
   "source": [
    "F = x**2 + x + 2\n",
    "F"
   ]
  },
  {
   "cell_type": "code",
   "execution_count": null,
   "metadata": {},
   "outputs": [],
   "source": [
    "F.subs(x, t)"
   ]
  },
  {
   "cell_type": "code",
   "execution_count": null,
   "metadata": {},
   "outputs": [],
   "source": [
    "F.subs(x, 4)"
   ]
  },
  {
   "cell_type": "markdown",
   "metadata": {},
   "source": [
    "# Shot put problem revisited"
   ]
  },
  {
   "cell_type": "markdown",
   "metadata": {},
   "source": [
    "Recall that the trajectory of a projectile fired from the origin and subject to earth's gravity is given by\n",
    "$$\n",
    "    y=(\\tan\\theta_0)x-\\frac{gx^2}{2(v_0\\cos\\theta_0)^2},\n",
    "$$\n",
    "where $v_0$ is the launch speed and $\\theta_0$ is the launch angle (above the horizontal). When launched from the ground and neglecting air resistance, the horizontal distance traveled by the projectile (its *range*) was maximised by taking $\\theta_0=45^\\circ$.\n",
    "\n",
    "Let us now compute the optimal launch angle when the projectile is fired from a height $h$ above the ground. If the projectile is fired from the origin, the point of impact with the ground is given by $(x,y)=(R,-h)$. Hence, the range $R$ can be determined from the equation\n",
    "$$\n",
    "    0=h+(\\tan\\theta_0)R-\\frac{gR^2}{2(v_0\\cos\\theta_0)^2}.\\tag{1}\n",
    "$$\n",
    "Considering (1) as the (implicit) definition of the function $R(\\theta_0)$, we can differentiate both sides with respect to $\\theta_0$. In order for `sympy` to perform the implicit differentiation correctly, we must specify that $R$ is a function of $\\theta_0$."
   ]
  },
  {
   "cell_type": "code",
   "execution_count": null,
   "metadata": {},
   "outputs": [],
   "source": [
    "h, v0, theta0, g = symbols('h, v_0, theta_0, g')\n",
    "R = Function('R')(theta0)\n",
    "\n",
    "RHS = h + tan(theta0)*R - g*R**2/(2*(v0*cos(theta0))**2)\n",
    "RHS"
   ]
  },
  {
   "cell_type": "code",
   "execution_count": null,
   "metadata": {},
   "outputs": [],
   "source": [
    "d = diff(RHS, theta0)\n",
    "d"
   ]
  },
  {
   "cell_type": "code",
   "execution_count": null,
   "metadata": {
    "scrolled": true
   },
   "outputs": [],
   "source": [
    "d_R_d_theta0 = solve(d, R.diff(theta0), dict=True) # list containing only one solution\n",
    "d_R_d_theta0"
   ]
  },
  {
   "cell_type": "markdown",
   "metadata": {},
   "source": [
    "Let's store the above expression on its own, rather than wrapped in a dictionary and a list:"
   ]
  },
  {
   "cell_type": "code",
   "execution_count": null,
   "metadata": {},
   "outputs": [],
   "source": [
    "d_R_d_theta0 = solve(d, R.diff(theta0))[0] # list containing only one solution\n",
    "d_R_d_theta0"
   ]
  },
  {
   "cell_type": "markdown",
   "metadata": {},
   "source": [
    "We maximise the range by setting the above derivative equal to zero."
   ]
  },
  {
   "cell_type": "code",
   "execution_count": null,
   "metadata": {},
   "outputs": [],
   "source": [
    "R_sols = solve(d_R_d_theta0, R)\n",
    "R_sols"
   ]
  },
  {
   "cell_type": "markdown",
   "metadata": {},
   "source": [
    "So, for maximum $R(\\theta_0)$,\n",
    "$$\n",
    "    R(\\theta_0)=\\frac{v_0^2}{g\\tan{\\theta_0}}.\n",
    "$$\n",
    "Let's sub this back into (1) and then solve for $\\theta_0$:"
   ]
  },
  {
   "cell_type": "code",
   "execution_count": null,
   "metadata": {},
   "outputs": [],
   "source": [
    "R_sol = R_sols[1]\n",
    "rhs = RHS.subs(R, R_sol).simplify()\n",
    "rhs"
   ]
  },
  {
   "cell_type": "code",
   "execution_count": null,
   "metadata": {},
   "outputs": [],
   "source": [
    "sols = solve(rhs, theta0)\n",
    "sols"
   ]
  },
  {
   "cell_type": "markdown",
   "metadata": {},
   "source": [
    "Sanity check: when $h=0$, we have $\\theta_0=\\tan^{-1}(1)=45^\\circ$, so we take the latter solution:"
   ]
  },
  {
   "cell_type": "code",
   "execution_count": null,
   "metadata": {},
   "outputs": [],
   "source": [
    "sol = sols[1]\n",
    "sol"
   ]
  },
  {
   "cell_type": "markdown",
   "metadata": {},
   "source": [
    "**Observe:** the taller the athlete, the smaller the optimal launch angle. Let's plug in some realistic numbers for Olympic shot put:"
   ]
  },
  {
   "cell_type": "code",
   "execution_count": null,
   "metadata": {},
   "outputs": [],
   "source": [
    "import math\n",
    "\n",
    "# show answer in degrees, rather than radians:\n",
    "math.degrees(sol.subs([(h, 1.8), (v0, 38), (g, 9.81)]))"
   ]
  },
  {
   "cell_type": "markdown",
   "metadata": {},
   "source": [
    "As we can see, the height of the athlete does not greatly impact the optimal launch angle."
   ]
  },
  {
   "cell_type": "markdown",
   "metadata": {},
   "source": [
    "# Problems"
   ]
  },
  {
   "cell_type": "markdown",
   "metadata": {},
   "source": [
    "## Problem 1\n",
    "\n",
    "Use `sympy` to derive all five equations of motion for constant acceleration (recall that we have already done this by hand in class)."
   ]
  },
  {
   "cell_type": "markdown",
   "metadata": {},
   "source": [
    "## Problem 2\n",
    "\n",
    "Let us now consider the impact of air resistance on the optimal launch angle for the shot put. Suppose, as above, that the shot put is launched from a height of $h=1.8$ m above the ground with speed $v_0=38$ m s$^{-1}$ at an angle $\\theta_0$ above the horizontal. Suppose the shot put has a mass of 4 kg, is 10 cm in diameter and has a drag coefficient of $C=0.47$. Assume the density of air is 1.225 kg m$^{-3}$.\n",
    "\n",
    "**(a)** Choose a few different values of $\\theta_0$, and, for each one, numerically compute the trajectory of the shot put (using the `odeint` function). Plot the trajectories on the same graph and compute the approximate range for each trajectory.\n",
    "\n",
    "**(b)** [*Difficult problem*] Programmatically compute the range for many different values of $\\theta_0$ and hence find an approximation for the optimal $\\theta_0$."
   ]
  }
 ],
 "metadata": {
  "kernelspec": {
   "display_name": "Python 3",
   "language": "python",
   "name": "python3"
  },
  "language_info": {
   "codemirror_mode": {
    "name": "ipython",
    "version": 3
   },
   "file_extension": ".py",
   "mimetype": "text/x-python",
   "name": "python",
   "nbconvert_exporter": "python",
   "pygments_lexer": "ipython3",
   "version": "3.7.1"
  }
 },
 "nbformat": 4,
 "nbformat_minor": 2
}
