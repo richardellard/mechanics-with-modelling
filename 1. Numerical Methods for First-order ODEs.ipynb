{
 "cells": [
  {
   "cell_type": "markdown",
   "metadata": {},
   "source": [
    "# Euler's method\n",
    "\n",
    "Consider the equation\n",
    "\\begin{align}\n",
    "    \\frac{dy}{dx} &= f(x,y) \\label{eq1}\\tag{1}.\n",
    "\\end{align}\n",
    "Suppose we know that $(x_0,y_0)$ is a point (given by some initial condition) on the desired solution curve. Then, if we approximate the curve by a straight line passing through $(x_0,y_0)$ and with slope $f(x_0,y_0)$, we can take a small \"step\" of size $h$ in the $x$-direction and arrive at the nearby point\n",
    "$$\n",
    "    (x_1,y_1) = (x_0+h,y_0+f(x_0,y_0)h)\n",
    "$$\n",
    "on the same line. If the step size $h$ is sufficiently small, we have that $y_1\\approx y(x_1)$, where $x_1=x_0+h$ and $y(x)$ is the desired solution of (1) satisfying $y(x_0)=y_0$. Continuing in this way, we can produce a sequence of points\n",
    "\\begin{align*}\n",
    "    (x_1,y_1) &= (x_0+h,y_0+f(x_0,y_0)h) \\\\\n",
    "    (x_2,y_2) &= (x_1+h,y_1+f(x_1,y_1)h) \\\\\n",
    "    (x_3,y_3) &= (x_2+h,y_2+f(x_2,y_2)h) \\\\\n",
    "    &\\vdots\n",
    "\\end{align*}\n",
    "which approximate the solution curve."
   ]
  },
  {
   "cell_type": "markdown",
   "metadata": {},
   "source": [
    "# Accuracy of numerical approximations\n",
    "\n",
    "In general, good approximations using Euler's method require a very small step size $h$. For this reason, there exist more sophisticated numerical approximation techniques such as the *Runge-Kutta method*. Indeed, the Runge-Kutta method (which we will not describe here) is one of the methods used by the ``scipy.integrate.odeint`` function from the ``scipy`` package.\n",
    "\n",
    "Given a list of $x$-values ``x``, a function ``f``$ =y'=f(y, x)$ (note the order of the arguments) and an initial condition ``y0`` $=y(x_0)$, ``odeint(f, y0, x)`` returns a list of $y$-values which approximate the true values $y(x_i)$ for each $x_i\\in$ ``x``, where $y(x)$ is the particular solution satisfying the initial condition.\n",
    "\n",
    "Below, we compare the accuracies of Euler's method and ``odeint`` for the simple equation $y'=y$. Do you notice how Euler's method can lead to cumulative errors?\n",
    "\n",
    "**Example 1.1** Find a sequence of points $(x_i,y_i)$ which approximate the solution to the initial value problem\n",
    "$$\n",
    "    \\frac{dy}{dx}=y, \\hspace{10mm} y(0)=1\n",
    "$$\n",
    "on the interval $[0, 1.5]$."
   ]
  },
  {
   "cell_type": "code",
   "execution_count": 1,
   "metadata": {},
   "outputs": [
    {
     "data": {
      "image/png": "[encoded data removed]",
      "text/plain": [
       "<Figure size 432x288 with 1 Axes>"
      ]
     },
     "metadata": {
      "needs_background": "light"
     },
     "output_type": "display_data"
    }
   ],
   "source": [
    "import numpy as np\n",
    "from scipy.integrate import odeint\n",
    "from matplotlib import pyplot as plt\n",
    "%matplotlib inline\n",
    "\n",
    "def f(y, x): # odeint expects the dependent variable as the first argument\n",
    "    return y\n",
    "\n",
    "x_range = (0, 1.5)\n",
    "y_range = (0, 4)\n",
    "\n",
    "y0 = 1\n",
    "\n",
    "#fig, ax = plt.subplots()\n",
    "#ax.set_aspect('equal')\n",
    "plt.title('Figure 1: Numerical approximation methods')\n",
    "plt.grid(True)\n",
    "plt.xlabel('$x$')\n",
    "plt.ylabel('$y$').set_rotation(0) # prevents vertical text\n",
    "\n",
    "# approximation using Euler's method\n",
    "h = 0.5\n",
    "x = np.arange(x_range[0], x_range[1] + h, h) # arange returns a half-open interval\n",
    "y = [1, 1.5, 2.25, 3.375] # check these values are correct for Euler's method\n",
    "plt.plot(x, y)\n",
    "\n",
    "# approximation using odeint\n",
    "y = odeint(f, y0, x)\n",
    "plt.plot(x, y)\n",
    "\n",
    "# analytic solution\n",
    "h = 0.01\n",
    "x = np.arange(x_range[0], x_range[1], h)\n",
    "y = np.exp(x)\n",
    "plt.plot(x, y)\n",
    "\n",
    "plt.xlim(x_range)\n",
    "plt.ylim(y_range)\n",
    "\n",
    "plt.legend(['a', 'b', 'c'])\n",
    "plt.show()"
   ]
  },
  {
   "cell_type": "markdown",
   "metadata": {},
   "source": [
    "# Problems"
   ]
  },
  {
   "cell_type": "markdown",
   "metadata": {},
   "source": [
    "## Problem one\n",
    "\n",
    "In order to graph the approximation produced by Euler's method and produce Figure 1, the $y$-values `[1, 1.5, 2.25, 3.375]` were hard-coded. Check that these values are correct. Now, write an implementation of Euler's method in Python, that is to say, write a function called ``Euler`` which behaves the same way as `odeint`, but which produces its list of approximate $y$-values using Euler's method.\n",
    "\n",
    "Replace the line `y = [1, 1.5, 2.25, 3.375]` above with the line `y = Euler(f, 1, x)`. Does the code still work?\n",
    "\n",
    "Experiment with adjusting the step size in both approximation methods."
   ]
  },
  {
   "cell_type": "markdown",
   "metadata": {},
   "source": [
    "## Problem two\n",
    "\n",
    "Use the `odeint` function to plot the solution to the initial value problem\n",
    "\n",
    "$$\n",
    "    \\frac{dy}{dx}=x+\\frac{1}{5}y, \\hspace{10mm} y(0)=-3\n",
    "$$\n",
    "\n",
    "on the interval $[0,5]$.\n",
    "\n",
    "If you have managed to successfully implement the `Euler` function from Problem 2, plot (on the same graph) the approximate solutions using Euler's method with step sizes $h=1$ and $h=0.1$."
   ]
  }
 ],
 "metadata": {
  "kernelspec": {
   "display_name": "Python 3",
   "language": "python",
   "name": "python3"
  },
  "language_info": {
   "codemirror_mode": {
    "name": "ipython",
    "version": 3
   },
   "file_extension": ".py",
   "mimetype": "text/x-python",
   "name": "python",
   "nbconvert_exporter": "python",
   "pygments_lexer": "ipython3",
   "version": "3.7.1"
  }
 },
 "nbformat": 4,
 "nbformat_minor": 2
}
