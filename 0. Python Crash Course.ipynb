{
 "cells": [
  {
   "cell_type": "markdown",
   "metadata": {},
   "source": [
    "# Primitive data types"
   ]
  },
  {
   "cell_type": "markdown",
   "metadata": {},
   "source": [
    "Integers are whole numbers and are represented by the `int` data type in Python. Real numbers (floating point numbers) are represented by the `float` data type:"
   ]
  },
  {
   "cell_type": "code",
   "execution_count": null,
   "metadata": {},
   "outputs": [],
   "source": [
    "x = 4\n",
    "\n",
    "type(x)"
   ]
  },
  {
   "cell_type": "code",
   "execution_count": null,
   "metadata": {},
   "outputs": [],
   "source": [
    "y = 2.5\n",
    "\n",
    "type(y)"
   ]
  },
  {
   "cell_type": "markdown",
   "metadata": {},
   "source": [
    "Note that we did not have to specify the type of the variable when we declared it - Python is a \"dynamically typed\" language. The `=` operator performs *variable assignment*: above, the integer value 4 has been stored in the variable `x` and the floating point value 2.5 has been stored in the variable `y`.\n",
    "\n",
    "Of course, we can perform basic arithmetic operations with numbers:"
   ]
  },
  {
   "cell_type": "code",
   "execution_count": null,
   "metadata": {},
   "outputs": [],
   "source": [
    "print(x + y)\n",
    "print(x - y)\n",
    "print(x * y)\n",
    "print(x / y)\n",
    "print(x ** y) # x to the power of y"
   ]
  },
  {
   "cell_type": "markdown",
   "metadata": {},
   "source": [
    "Above, we have seen our first example of a code *comment*. This are preceded with the `#` symbol and are ignored by the Python interpretor. They are written purely to help the (human) reader of the code."
   ]
  },
  {
   "cell_type": "markdown",
   "metadata": {},
   "source": [
    "The `print` function (above) is very useful. The final expression evaluated will be output automatically from the cell, but if we wish to display more output, we must invoke `print`."
   ]
  },
  {
   "cell_type": "markdown",
   "metadata": {},
   "source": [
    "A *string* is a sequence of characters and is represented by the `str` data type. A string *literal* can be enclosed by either single of double quotes. The `+` operator for strings performs *string concatenation*."
   ]
  },
  {
   "cell_type": "code",
   "execution_count": null,
   "metadata": {},
   "outputs": [],
   "source": [
    "s1 = 'Hello, '\n",
    "s2 = 'World!'\n",
    "\n",
    "print(s1 + s2)\n",
    "type(s1 + s2)"
   ]
  },
  {
   "cell_type": "markdown",
   "metadata": {},
   "source": [
    "The final primitive data type is the *Boolean* value, or `bool`. It must take one of two possible values: `True` or `False`. We can combine boolean values using the `and`, `or` and `not` operators."
   ]
  },
  {
   "cell_type": "code",
   "execution_count": null,
   "metadata": {},
   "outputs": [],
   "source": [
    "x = True\n",
    "y = False\n",
    "\n",
    "print(x and y) # returns True if both are True\n",
    "print(x or y) # returns True if at least one is True\n",
    "print(not x) # returns the opposite truth value\n",
    "\n",
    "type(x)"
   ]
  },
  {
   "cell_type": "markdown",
   "metadata": {
    "slideshow": {
     "slide_type": "-"
    }
   },
   "source": [
    "# Dictionaries, lists, tuples and sets"
   ]
  },
  {
   "cell_type": "markdown",
   "metadata": {
    "slideshow": {
     "slide_type": "-"
    }
   },
   "source": [
    "A *dictionary* is a collection of key-value pairs. We can write a dictionary *literal* as follows:"
   ]
  },
  {
   "cell_type": "code",
   "execution_count": null,
   "metadata": {
    "slideshow": {
     "slide_type": "-"
    }
   },
   "outputs": [],
   "source": [
    "mydict = {'foo': 3, 'bar': 4, 'baz': 'cat'}"
   ]
  },
  {
   "cell_type": "markdown",
   "metadata": {
    "slideshow": {
     "slide_type": "-"
    }
   },
   "source": [
    "Do you expect the following code to produce an error?"
   ]
  },
  {
   "cell_type": "code",
   "execution_count": null,
   "metadata": {},
   "outputs": [],
   "source": [
    "mydict = {'foo': 3, 'bar': 4, baz: 'cat'}"
   ]
  },
  {
   "cell_type": "markdown",
   "metadata": {},
   "source": [
    "What about this code?"
   ]
  },
  {
   "cell_type": "code",
   "execution_count": null,
   "metadata": {},
   "outputs": [],
   "source": [
    "mydict = {'foo': 3, 'bar': 4, 5: 'cat'}"
   ]
  },
  {
   "cell_type": "markdown",
   "metadata": {},
   "source": [
    "We can access/modify the contents of the dictionary as follows:"
   ]
  },
  {
   "cell_type": "code",
   "execution_count": null,
   "metadata": {},
   "outputs": [],
   "source": [
    "mydict['foo'] = 10\n",
    "mydict[5] = 'dog'\n",
    "print(mydict['foo'])\n",
    "print(mydict[5])"
   ]
  },
  {
   "cell_type": "markdown",
   "metadata": {},
   "source": [
    "We can create *list* literals like this:"
   ]
  },
  {
   "cell_type": "code",
   "execution_count": null,
   "metadata": {},
   "outputs": [],
   "source": [
    "mylist = [67, None, 'George Boole']"
   ]
  },
  {
   "cell_type": "markdown",
   "metadata": {},
   "source": [
    "and access/modify the elements like this:"
   ]
  },
  {
   "cell_type": "code",
   "execution_count": null,
   "metadata": {},
   "outputs": [],
   "source": [
    "print(mylist[0])\n",
    "mylist[2] = 'William Rowan Hamilton'"
   ]
  },
  {
   "cell_type": "markdown",
   "metadata": {},
   "source": [
    "What do you expect to happen if we try to add a fourth element to our list in the following manner?"
   ]
  },
  {
   "cell_type": "code",
   "execution_count": null,
   "metadata": {},
   "outputs": [],
   "source": [
    "mylist[3] = 1"
   ]
  },
  {
   "cell_type": "markdown",
   "metadata": {},
   "source": [
    "Instead, we should do the following:"
   ]
  },
  {
   "cell_type": "code",
   "execution_count": null,
   "metadata": {},
   "outputs": [],
   "source": [
    "mylist.append(1)\n",
    "print(mylist)"
   ]
  },
  {
   "cell_type": "markdown",
   "metadata": {},
   "source": [
    "We can take a *slice* from a list as follows (note that the slice is taken up to, but not including, the second index):"
   ]
  },
  {
   "cell_type": "code",
   "execution_count": null,
   "metadata": {},
   "outputs": [],
   "source": [
    "l = [0, 10, 20, 30, 40, 50, 60, 70, 80]\n",
    "\n",
    "print(l[2:7])\n",
    "print(l[2:])\n",
    "print(l[:7])"
   ]
  },
  {
   "cell_type": "markdown",
   "metadata": {},
   "source": [
    "We can add an increment to the slice, if desired:"
   ]
  },
  {
   "cell_type": "code",
   "execution_count": null,
   "metadata": {},
   "outputs": [],
   "source": [
    "l[1:7:2]"
   ]
  },
  {
   "cell_type": "markdown",
   "metadata": {},
   "source": [
    "Python provides a convenient built-in function for summing the elements of a list:"
   ]
  },
  {
   "cell_type": "code",
   "execution_count": null,
   "metadata": {},
   "outputs": [],
   "source": [
    "sum(l)"
   ]
  },
  {
   "cell_type": "markdown",
   "metadata": {},
   "source": [
    "A *tuple* is like a list, but is immutable and literals are defined using (optional) parentheses, rather than brackets:"
   ]
  },
  {
   "cell_type": "code",
   "execution_count": null,
   "metadata": {},
   "outputs": [],
   "source": [
    "mytuple = ('cat', 'dog', 'frog')\n",
    "yourtuple = 100, 200, 'three hundred'\n",
    "\n",
    "print(mytuple[0])\n",
    "print(yourtuple[1])\n",
    "mytuple[2] = 'snake'"
   ]
  },
  {
   "cell_type": "markdown",
   "metadata": {},
   "source": [
    "A *set* in Python is similar to a set in mathematics, in that its elements are unordered and unindexed. This means the elements of a set cannot be accessed by index, but we can loop through the elements of a set (we will see this later). We cal also check for membership of a set. A set literal is defined using curly braces:"
   ]
  },
  {
   "cell_type": "code",
   "execution_count": null,
   "metadata": {},
   "outputs": [],
   "source": [
    "S = {'a', 'b', 'c', 'd'}\n",
    "\n",
    "print('b' in S)\n",
    "print('e' in S)"
   ]
  },
  {
   "cell_type": "markdown",
   "metadata": {},
   "source": [
    "# Conditional statements"
   ]
  },
  {
   "cell_type": "markdown",
   "metadata": {},
   "source": [
    "Python conditional statements use the ``if``, ``elif`` and ``else`` keywords. As always, indentation is used to define scope:"
   ]
  },
  {
   "cell_type": "code",
   "execution_count": null,
   "metadata": {},
   "outputs": [],
   "source": [
    "a = 150\n",
    "b = 125\n",
    "if b > a:\n",
    "    print(\"b is greater than a.\")\n",
    "elif a == b:\n",
    "    print(\"a and b are equal.\")\n",
    "else:\n",
    "    print(\"a is greater than b.\")"
   ]
  },
  {
   "cell_type": "markdown",
   "metadata": {},
   "source": [
    "More complicated conditions can be constructed using the ``and``, ``or`` and ``not`` logical operators:"
   ]
  },
  {
   "cell_type": "code",
   "execution_count": null,
   "metadata": {},
   "outputs": [],
   "source": [
    "check = True\n",
    "a = 1\n",
    "b = 2\n",
    "c = 3\n",
    "d = 3\n",
    "\n",
    "if (a <= b and c <= d) or (not check):\n",
    "    print('yes')\n",
    "else:\n",
    "    print('no')"
   ]
  },
  {
   "cell_type": "markdown",
   "metadata": {},
   "source": [
    "# Loops"
   ]
  },
  {
   "cell_type": "markdown",
   "metadata": {},
   "source": [
    "Python handles *for loops* slightly differently than many other programming languages, in that one does not need to explicitly declare a counter variable:"
   ]
  },
  {
   "cell_type": "code",
   "execution_count": null,
   "metadata": {},
   "outputs": [],
   "source": [
    "countries = ['Ireland', 'Italy', 'Australia']\n",
    "S = {'a', 'b', 'c', 'd'}\n",
    "\n",
    "for country in countries:\n",
    "    print(country)\n",
    "    \n",
    "for i in range(4):\n",
    "    print(i)\n",
    "    \n",
    "for s in S:\n",
    "    print(s)"
   ]
  },
  {
   "cell_type": "markdown",
   "metadata": {},
   "source": [
    "Is the order in which the elements of the set above were printed surprising?"
   ]
  },
  {
   "cell_type": "markdown",
   "metadata": {},
   "source": [
    "In Python, *while loops* function similarly to other languages:"
   ]
  },
  {
   "cell_type": "code",
   "execution_count": null,
   "metadata": {},
   "outputs": [],
   "source": [
    "i = 1\n",
    "\n",
    "while i < 5:\n",
    "    print(i)\n",
    "    i += 1"
   ]
  },
  {
   "cell_type": "markdown",
   "metadata": {},
   "source": [
    "The ``break`` statement ends execution of the loop:"
   ]
  },
  {
   "cell_type": "code",
   "execution_count": null,
   "metadata": {},
   "outputs": [],
   "source": [
    "for country in countries:\n",
    "    print(country)\n",
    "    if country == 'Italy':\n",
    "        break"
   ]
  },
  {
   "cell_type": "markdown",
   "metadata": {},
   "source": [
    "The ``continue`` statement ends execution of the current iteration of the loop, but then continues with the next:"
   ]
  },
  {
   "cell_type": "code",
   "execution_count": null,
   "metadata": {},
   "outputs": [],
   "source": [
    "for i in range(4):\n",
    "    if i == 2:\n",
    "        continue\n",
    "    print(i)"
   ]
  },
  {
   "cell_type": "markdown",
   "metadata": {},
   "source": [
    "# Functions"
   ]
  },
  {
   "cell_type": "markdown",
   "metadata": {},
   "source": [
    "The Python syntax for defining and calling functions is as follows (remember to pay attention to indentation using the tab character):"
   ]
  },
  {
   "cell_type": "code",
   "execution_count": null,
   "metadata": {},
   "outputs": [],
   "source": [
    "def say_hello():\n",
    "    print('Hello!')\n",
    "    \n",
    "say_hello()"
   ]
  },
  {
   "cell_type": "markdown",
   "metadata": {},
   "source": [
    "Python handles function arguments/parameters like most programming languages:"
   ]
  },
  {
   "cell_type": "code",
   "execution_count": null,
   "metadata": {},
   "outputs": [],
   "source": [
    "def say_hello(first_name, last_name):\n",
    "    print('Hello, ' + first_name + ' ' + last_name + '!')\n",
    "    \n",
    "say_hello('Alice', 'Smith')"
   ]
  },
  {
   "cell_type": "markdown",
   "metadata": {},
   "source": [
    "Due to *keyword arguments* and *default parameter values*, we can pass fewer arguments to a function than are given in the function definition, or we can pass them in a different order:"
   ]
  },
  {
   "cell_type": "code",
   "execution_count": null,
   "metadata": {},
   "outputs": [],
   "source": [
    "def say_hello(first_name, last_name = 'Doe'):\n",
    "    print('Hello, ' + first_name + ' ' + last_name + '!')\n",
    "    \n",
    "say_hello('Alice', 'Smith')\n",
    "say_hello(last_name = 'Smith', first_name = 'Alice')\n",
    "say_hello(first_name = 'John')"
   ]
  },
  {
   "cell_type": "markdown",
   "metadata": {},
   "source": [
    "Functions can also accept an arbitrary number of arguments. By defining a function parameter with an ``*``, all arguments will be passed to that parameter as a tuple:"
   ]
  },
  {
   "cell_type": "code",
   "execution_count": null,
   "metadata": {},
   "outputs": [],
   "source": [
    "def say_hello(*names):\n",
    "    print('Hello, ' + names[0] + '!')\n",
    "    \n",
    "say_hello('Alice', 'Smith')"
   ]
  },
  {
   "cell_type": "markdown",
   "metadata": {},
   "source": [
    "We can also use *arbitrary keyword arguments*, where arguments are passed to a parameter marked with ``**`` as a dictionary:"
   ]
  },
  {
   "cell_type": "code",
   "execution_count": null,
   "metadata": {},
   "outputs": [],
   "source": [
    "def say_hello(**names):\n",
    "    print('Hello, ' + names['first_name'] + ' ' + names['last_name'] + '!')\n",
    "    \n",
    "say_hello(first_name = 'Alice', last_name = 'Smith')"
   ]
  },
  {
   "cell_type": "markdown",
   "metadata": {},
   "source": [
    "Importantly, functions can return values to the caller:"
   ]
  },
  {
   "cell_type": "code",
   "execution_count": null,
   "metadata": {},
   "outputs": [],
   "source": [
    "def double_it(x):\n",
    "    return 2 * x\n",
    "\n",
    "print(double_it(7))"
   ]
  },
  {
   "cell_type": "markdown",
   "metadata": {},
   "source": [
    "# Objects"
   ]
  },
  {
   "cell_type": "markdown",
   "metadata": {},
   "source": [
    "Objects are structures in memory (stored in variables) which encapsulate both data and behaviour in the form of functions - called *methods* - which act on that data. We have already seen an example of a method call above: the `append` method on `list` objects. Methods on an object are accessed via the `.` operator. They can modify the object on which they are called, return a new object, or do something else entirely using the data stored in the object. Everything in Python is an object, including the primitive types, and even functions themselves, meaning we can safely call Python an *object-oriented* language, even if the language does not force us to program in an object-orientated style."
   ]
  },
  {
   "cell_type": "code",
   "execution_count": null,
   "metadata": {},
   "outputs": [],
   "source": [
    "s = 'Hello, World!'\n",
    "print(s.upper())\n",
    "print(s) # The upper method did not modify the object on which it was called.\n",
    "\n",
    "l = [4, -1, 3, 7, -4]\n",
    "l.sort()\n",
    "print(l) # The sort method modified the object on which it was called."
   ]
  },
  {
   "cell_type": "markdown",
   "metadata": {},
   "source": [
    "Methods are functions, and so can take arguments:"
   ]
  },
  {
   "cell_type": "code",
   "execution_count": null,
   "metadata": {},
   "outputs": [],
   "source": [
    "l.sort(reverse = True)\n",
    "print(l)"
   ]
  },
  {
   "cell_type": "markdown",
   "metadata": {},
   "source": [
    "It is also possible to create your own custom objects, by writing a *class* which defines the type of data stored by the object and the methods available on the object, but this is beyond the scope of this course."
   ]
  }
 ],
 "metadata": {
  "kernelspec": {
   "display_name": "Python 3",
   "language": "python",
   "name": "python3"
  },
  "language_info": {
   "codemirror_mode": {
    "name": "ipython",
    "version": 3
   },
   "file_extension": ".py",
   "mimetype": "text/x-python",
   "name": "python",
   "nbconvert_exporter": "python",
   "pygments_lexer": "ipython3",
   "version": "3.7.1"
  }
 },
 "nbformat": 4,
 "nbformat_minor": 2
}
