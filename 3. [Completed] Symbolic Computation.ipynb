{
 "cells": [
  {
   "cell_type": "markdown",
   "metadata": {},
   "source": [
    "# Symbolic computation with `sympy`"
   ]
  },
  {
   "cell_type": "markdown",
   "metadata": {},
   "source": [
    "Symbolic (as opposed to numeric) computation can be accomplished in Python using the `sympy` package. The `init_printing` function allows the output to be formatted using *MathJax*."
   ]
  },
  {
   "cell_type": "code",
   "execution_count": 1,
   "metadata": {},
   "outputs": [],
   "source": [
    "from sympy import init_printing, Symbol, symbols, Function, sin, cos, tan, exp, oo, Eq\n",
    "\n",
    "init_printing()"
   ]
  },
  {
   "cell_type": "markdown",
   "metadata": {},
   "source": [
    "We must explicitly state which Python variables correspond to mathematical symbols:"
   ]
  },
  {
   "cell_type": "code",
   "execution_count": 2,
   "metadata": {},
   "outputs": [
    {
     "data": {
      "image/png": "[encoded data removed]",
      "text/latex": [
       "$$e^{- x} \\sin{\\left (x + 1 \\right )}$$"
      ],
      "text/plain": [
       " -x           \n",
       "ℯ  ⋅sin(x + 1)"
      ]
     },
     "execution_count": 2,
     "metadata": {},
     "output_type": "execute_result"
    }
   ],
   "source": [
    "x = Symbol('x')\n",
    "\n",
    "sin(x+1)/exp(x)"
   ]
  },
  {
   "cell_type": "code",
   "execution_count": 3,
   "metadata": {},
   "outputs": [
    {
     "data": {
      "image/png": "[encoded data removed]",
      "text/latex": [
       "$$e^{- \\theta_{0}} \\sin{\\left (\\theta_{0} + 1 \\right )}$$"
      ],
      "text/plain": [
       " -θ₀            \n",
       "ℯ   ⋅sin(θ₀ + 1)"
      ]
     },
     "execution_count": 3,
     "metadata": {},
     "output_type": "execute_result"
    }
   ],
   "source": [
    "t0 = Symbol('theta_0')\n",
    "\n",
    "sin(t0+1)/exp(t0)"
   ]
  },
  {
   "cell_type": "markdown",
   "metadata": {},
   "source": [
    "In the above, `theta_0` produces the symbol $\\theta_0$ in *LaTeX*. `sympy` understands this and displays the symbol correctly."
   ]
  },
  {
   "cell_type": "markdown",
   "metadata": {},
   "source": [
    "The `symbols` function (note the lowercase \"s\") allows us to define several symbols at once:"
   ]
  },
  {
   "cell_type": "code",
   "execution_count": 4,
   "metadata": {},
   "outputs": [],
   "source": [
    "a, b, c, x, y, z = symbols('a, b, c, x, y, z')"
   ]
  },
  {
   "cell_type": "markdown",
   "metadata": {},
   "source": [
    "# Solving equations"
   ]
  },
  {
   "cell_type": "markdown",
   "metadata": {},
   "source": [
    "A symbolic expression (equal to zero) can be solved for any one of the symbols it contains using the `solve` function:"
   ]
  },
  {
   "cell_type": "code",
   "execution_count": 5,
   "metadata": {},
   "outputs": [
    {
     "data": {
      "image/png": "[encoded data removed]",
      "text/latex": [
       "$$\\left [ \\frac{- b + \\sqrt{- 4 a c + b^{2}}}{2 a}, \\quad - \\frac{b + \\sqrt{- 4 a c + b^{2}}}{2 a}\\right ]$$"
      ],
      "text/plain": [
       "⎡        _____________   ⎛       _____________⎞ ⎤\n",
       "⎢       ╱           2    ⎜      ╱           2 ⎟ ⎥\n",
       "⎢-b + ╲╱  -4⋅a⋅c + b    -⎝b + ╲╱  -4⋅a⋅c + b  ⎠ ⎥\n",
       "⎢─────────────────────, ────────────────────────⎥\n",
       "⎣         2⋅a                     2⋅a           ⎦"
      ]
     },
     "execution_count": 5,
     "metadata": {},
     "output_type": "execute_result"
    }
   ],
   "source": [
    "from sympy import solve\n",
    "\n",
    "solve(a*x**2 + b*x + c, x)"
   ]
  },
  {
   "cell_type": "markdown",
   "metadata": {},
   "source": [
    "By default, `solve` presents its solutions as a list, but a dictionary presentation is also available:"
   ]
  },
  {
   "cell_type": "code",
   "execution_count": 6,
   "metadata": {},
   "outputs": [
    {
     "data": {
      "image/png": "[encoded data removed]",
      "text/latex": [
       "$$\\left [ \\left \\{ x : \\frac{- b + \\sqrt{- 4 a c + b^{2}}}{2 a}\\right \\}, \\quad \\left \\{ x : - \\frac{b + \\sqrt{- 4 a c + b^{2}}}{2 a}\\right \\}\\right ]$$"
      ],
      "text/plain": [
       "⎡⎧           _____________⎫  ⎧    ⎛       _____________⎞ ⎫⎤\n",
       "⎢⎪          ╱           2 ⎪  ⎪    ⎜      ╱           2 ⎟ ⎪⎥\n",
       "⎢⎨   -b + ╲╱  -4⋅a⋅c + b  ⎬  ⎨   -⎝b + ╲╱  -4⋅a⋅c + b  ⎠ ⎬⎥\n",
       "⎢⎪x: ─────────────────────⎪, ⎪x: ────────────────────────⎪⎥\n",
       "⎣⎩            2⋅a         ⎭  ⎩             2⋅a           ⎭⎦"
      ]
     },
     "execution_count": 6,
     "metadata": {},
     "output_type": "execute_result"
    }
   ],
   "source": [
    "solve(a*x**2 + b*x + c, x, dict=True)"
   ]
  },
  {
   "cell_type": "markdown",
   "metadata": {},
   "source": [
    "We can also solve a system of equations:"
   ]
  },
  {
   "cell_type": "code",
   "execution_count": 7,
   "metadata": {},
   "outputs": [
    {
     "data": {
      "image/png": "[encoded data removed]",
      "text/latex": [
       "$$\\left [ \\left \\{ x : - 2 \\sqrt{z} + 2 z, \\quad y : 2 \\sqrt{z}\\right \\}, \\quad \\left \\{ x : 2 \\sqrt{z} + 2 z, \\quad y : - 2 \\sqrt{z}\\right \\}\\right ]$$"
      ],
      "text/plain": [
       "[{x: -2⋅√z + 2⋅z, y: 2⋅√z}, {x: 2⋅√z + 2⋅z, y: -2⋅√z}]"
      ]
     },
     "execution_count": 7,
     "metadata": {},
     "output_type": "execute_result"
    }
   ],
   "source": [
    "solve([x + y - 2*z, y**2 - 4*z], [x, y], dict=True)"
   ]
  },
  {
   "cell_type": "markdown",
   "metadata": {},
   "source": [
    "Rather than assuming all expressions are equal to zero, we can explicitly create symbolic equations if we wish:"
   ]
  },
  {
   "cell_type": "code",
   "execution_count": 8,
   "metadata": {},
   "outputs": [
    {
     "data": {
      "image/png": "[encoded data removed]",
      "text/latex": [
       "$$\\left [ \\frac{- b + \\sqrt{- 4 a c + b^{2}}}{2 a}, \\quad - \\frac{b + \\sqrt{- 4 a c + b^{2}}}{2 a}\\right ]$$"
      ],
      "text/plain": [
       "⎡        _____________   ⎛       _____________⎞ ⎤\n",
       "⎢       ╱           2    ⎜      ╱           2 ⎟ ⎥\n",
       "⎢-b + ╲╱  -4⋅a⋅c + b    -⎝b + ╲╱  -4⋅a⋅c + b  ⎠ ⎥\n",
       "⎢─────────────────────, ────────────────────────⎥\n",
       "⎣         2⋅a                     2⋅a           ⎦"
      ]
     },
     "execution_count": 8,
     "metadata": {},
     "output_type": "execute_result"
    }
   ],
   "source": [
    "solve(Eq(a*x**2 + b*x, -c), x)"
   ]
  },
  {
   "cell_type": "markdown",
   "metadata": {},
   "source": [
    "# Calculus"
   ]
  },
  {
   "cell_type": "code",
   "execution_count": 9,
   "metadata": {},
   "outputs": [],
   "source": [
    "from sympy import diff, integrate"
   ]
  },
  {
   "cell_type": "markdown",
   "metadata": {},
   "source": [
    "To take derivatives, we use the `diff` function, specifying the variable we wish to differentiate with respect to:"
   ]
  },
  {
   "cell_type": "code",
   "execution_count": 10,
   "metadata": {},
   "outputs": [
    {
     "data": {
      "image/png": "[encoded data removed]",
      "text/latex": [
       "$$- \\sin{\\left (x \\right )}$$"
      ],
      "text/plain": [
       "-sin(x)"
      ]
     },
     "execution_count": 10,
     "metadata": {},
     "output_type": "execute_result"
    }
   ],
   "source": [
    "diff(cos(x), x)"
   ]
  },
  {
   "cell_type": "markdown",
   "metadata": {},
   "source": [
    "To take the second derivative, we differentiate with respect to $x$ twice:"
   ]
  },
  {
   "cell_type": "code",
   "execution_count": 11,
   "metadata": {},
   "outputs": [
    {
     "data": {
      "image/png": "[encoded data removed]",
      "text/latex": [
       "$$- \\cos{\\left (x \\right )}$$"
      ],
      "text/plain": [
       "-cos(x)"
      ]
     },
     "execution_count": 11,
     "metadata": {},
     "output_type": "execute_result"
    }
   ],
   "source": [
    "diff(cos(x), x, x)"
   ]
  },
  {
   "cell_type": "markdown",
   "metadata": {},
   "source": [
    "Integration is similar:"
   ]
  },
  {
   "cell_type": "code",
   "execution_count": 12,
   "metadata": {},
   "outputs": [
    {
     "data": {
      "image/png": "[encoded data removed]",
      "text/latex": [
       "$$\\sin{\\left (x \\right )}$$"
      ],
      "text/plain": [
       "sin(x)"
      ]
     },
     "execution_count": 12,
     "metadata": {},
     "output_type": "execute_result"
    }
   ],
   "source": [
    "integrate(cos(x), x)"
   ]
  },
  {
   "cell_type": "markdown",
   "metadata": {},
   "source": [
    "Definite integrals are performed as follows. Let's compute"
   ]
  },
  {
   "cell_type": "markdown",
   "metadata": {},
   "source": [
    "$$\n",
    "    \\int_0^\\infty e^{-x}\\,dx.\n",
    "$$"
   ]
  },
  {
   "cell_type": "code",
   "execution_count": 13,
   "metadata": {
    "scrolled": true
   },
   "outputs": [
    {
     "data": {
      "image/png": "[encoded data removed]",
      "text/latex": [
       "$$1$$"
      ],
      "text/plain": [
       "1"
      ]
     },
     "execution_count": 13,
     "metadata": {},
     "output_type": "execute_result"
    }
   ],
   "source": [
    "integrate(exp(-x), (x, 0, oo))"
   ]
  },
  {
   "cell_type": "markdown",
   "metadata": {},
   "source": [
    "**Note:** Sympy uses a double lowercase o (\"oh\") to denote infinity, as seen above."
   ]
  },
  {
   "cell_type": "markdown",
   "metadata": {},
   "source": [
    "# Differential equations"
   ]
  },
  {
   "cell_type": "code",
   "execution_count": 14,
   "metadata": {},
   "outputs": [],
   "source": [
    "from sympy import Derivative, dsolve"
   ]
  },
  {
   "cell_type": "markdown",
   "metadata": {},
   "source": [
    "Differential equations can be solved directly (`sympy` uses several methods under the hood).\n",
    "\n",
    "First, we must specify that $f$ is some (as yet unknown) function:"
   ]
  },
  {
   "cell_type": "code",
   "execution_count": 15,
   "metadata": {},
   "outputs": [],
   "source": [
    "f = Function('f')\n",
    "t = Symbol('t')"
   ]
  },
  {
   "cell_type": "markdown",
   "metadata": {},
   "source": [
    "Now, `Derivative(f(t), t)` and `Derivative(f(t), t, t)` represent the first and second derivatives, respectively."
   ]
  },
  {
   "cell_type": "code",
   "execution_count": 16,
   "metadata": {},
   "outputs": [
    {
     "data": {
      "image/png": "[encoded data removed]",
      "text/latex": [
       "$$\\frac{d}{d t} f{\\left (t \\right )}$$"
      ],
      "text/plain": [
       "d       \n",
       "──(f(t))\n",
       "dt      "
      ]
     },
     "execution_count": 16,
     "metadata": {},
     "output_type": "execute_result"
    }
   ],
   "source": [
    "Derivative(f(t), t)"
   ]
  },
  {
   "cell_type": "code",
   "execution_count": 17,
   "metadata": {},
   "outputs": [
    {
     "data": {
      "image/png": "[encoded data removed]",
      "text/latex": [
       "$$\\frac{d^{2}}{d t^{2}} f{\\left (t \\right )}$$"
      ],
      "text/plain": [
       "  2      \n",
       " d       \n",
       "───(f(t))\n",
       "  2      \n",
       "dt       "
      ]
     },
     "execution_count": 17,
     "metadata": {},
     "output_type": "execute_result"
    }
   ],
   "source": [
    "Derivative(f(t), t, t)"
   ]
  },
  {
   "cell_type": "markdown",
   "metadata": {},
   "source": [
    "Alternatively, you can use `f(t).diff(t)` and `f(t).diff(t, t)`."
   ]
  },
  {
   "cell_type": "code",
   "execution_count": 18,
   "metadata": {},
   "outputs": [
    {
     "data": {
      "image/png": "[encoded data removed]",
      "text/latex": [
       "$$\\frac{d}{d t} f{\\left (t \\right )}$$"
      ],
      "text/plain": [
       "d       \n",
       "──(f(t))\n",
       "dt      "
      ]
     },
     "execution_count": 18,
     "metadata": {},
     "output_type": "execute_result"
    }
   ],
   "source": [
    "f(t).diff(t)"
   ]
  },
  {
   "cell_type": "code",
   "execution_count": 19,
   "metadata": {},
   "outputs": [
    {
     "data": {
      "image/png": "[encoded data removed]",
      "text/latex": [
       "$$\\frac{d^{2}}{d t^{2}} f{\\left (t \\right )}$$"
      ],
      "text/plain": [
       "  2      \n",
       " d       \n",
       "───(f(t))\n",
       "  2      \n",
       "dt       "
      ]
     },
     "execution_count": 19,
     "metadata": {},
     "output_type": "execute_result"
    }
   ],
   "source": [
    "f(t).diff(t, t)"
   ]
  },
  {
   "cell_type": "markdown",
   "metadata": {},
   "source": [
    "Let's solve the second-order differential equation\n",
    "$$\n",
    "    f''(t)-f'(t)-6f(t)=e^t.\n",
    "$$\n",
    "for $f(t)$ using the `dsolve` function."
   ]
  },
  {
   "cell_type": "code",
   "execution_count": 20,
   "metadata": {},
   "outputs": [
    {
     "data": {
      "image/png": "[encoded data removed]",
      "text/latex": [
       "$$f{\\left (t \\right )} = C_{1} e^{- 2 t} + C_{2} e^{3 t} - \\frac{e^{t}}{6}$$"
      ],
      "text/plain": [
       "                             t\n",
       "           -2⋅t       3⋅t   ℯ \n",
       "f(t) = C₁⋅ℯ     + C₂⋅ℯ    - ──\n",
       "                            6 "
      ]
     },
     "execution_count": 20,
     "metadata": {},
     "output_type": "execute_result"
    }
   ],
   "source": [
    "dsolve(Derivative(f(t), t, t) - Derivative(f(t), t) - 6*f(t) - exp(t), f(t))"
   ]
  },
  {
   "cell_type": "markdown",
   "metadata": {},
   "source": [
    "Now suppose we want to find the particular solution satisfying the initial conditions\n",
    "$$\n",
    "    f(0)=f'(0)=0.\n",
    "$$"
   ]
  },
  {
   "cell_type": "code",
   "execution_count": 21,
   "metadata": {},
   "outputs": [
    {
     "data": {
      "image/png": "[encoded data removed]",
      "text/latex": [
       "$$f{\\left (t \\right )} = \\frac{e^{3 t}}{10} - \\frac{e^{t}}{6} + \\frac{e^{- 2 t}}{15}$$"
      ],
      "text/plain": [
       "        3⋅t    t    -2⋅t\n",
       "       ℯ      ℯ    ℯ    \n",
       "f(t) = ──── - ── + ─────\n",
       "        10    6      15 "
      ]
     },
     "execution_count": 21,
     "metadata": {},
     "output_type": "execute_result"
    }
   ],
   "source": [
    "conditions = {f(0): 0, Derivative(f(t),t).subs(t, 0): 0} # a Python dictionary\n",
    "\n",
    "dsolve(Derivative(f(t), t, t) - Derivative(f(t), t) - 6*f(t) - exp(t), f(t), ics=conditions)"
   ]
  },
  {
   "cell_type": "markdown",
   "metadata": {},
   "source": [
    "**Note:** In the above, `.subs(t, 0)` substituted the value 0 into the mathematical expression for $f'(t)$.\n",
    "\n",
    "Actually, we can use `subs` more generally:"
   ]
  },
  {
   "cell_type": "code",
   "execution_count": 22,
   "metadata": {},
   "outputs": [
    {
     "data": {
      "image/png": "[encoded data removed]",
      "text/latex": [
       "$$x^{2} + x + 2$$"
      ],
      "text/plain": [
       " 2        \n",
       "x  + x + 2"
      ]
     },
     "execution_count": 22,
     "metadata": {},
     "output_type": "execute_result"
    }
   ],
   "source": [
    "F = x**2 + x + 2\n",
    "F"
   ]
  },
  {
   "cell_type": "code",
   "execution_count": 23,
   "metadata": {},
   "outputs": [
    {
     "data": {
      "image/png": "[encoded data removed]",
      "text/latex": [
       "$$t^{2} + t + 2$$"
      ],
      "text/plain": [
       " 2        \n",
       "t  + t + 2"
      ]
     },
     "execution_count": 23,
     "metadata": {},
     "output_type": "execute_result"
    }
   ],
   "source": [
    "F.subs(x, t)"
   ]
  },
  {
   "cell_type": "code",
   "execution_count": 24,
   "metadata": {},
   "outputs": [
    {
     "data": {
      "image/png": "[encoded data removed]",
      "text/latex": [
       "$$22$$"
      ],
      "text/plain": [
       "22"
      ]
     },
     "execution_count": 24,
     "metadata": {},
     "output_type": "execute_result"
    }
   ],
   "source": [
    "F.subs(x, 4)"
   ]
  },
  {
   "cell_type": "markdown",
   "metadata": {},
   "source": [
    "# Shot put problem revisited"
   ]
  },
  {
   "cell_type": "markdown",
   "metadata": {},
   "source": [
    "Recall that the trajectory of a projectile fired from the origin and subject to earth's gravity is given by\n",
    "$$\n",
    "    y=(\\tan\\theta_0)x-\\frac{gx^2}{2(v_0\\cos\\theta_0)^2},\n",
    "$$\n",
    "where $v_0$ is the launch speed and $\\theta_0$ is the launch angle (above the horizontal). When launched from the ground and neglecting air resistance, the horizontal distance traveled by the projectile (its *range*) was maximised by taking $\\theta_0=45^\\circ$.\n",
    "\n",
    "Let us now compute the optimal launch angle when the projectile is fired from a height $h$ above the ground. If the projectile is fired from the origin, the point of impact with the ground is given by $(x,y)=(R,-h)$. Hence, the range $R$ can be determined from the equation\n",
    "$$\n",
    "    0=h+(\\tan\\theta_0)R-\\frac{gR^2}{2(v_0\\cos\\theta_0)^2}.\\tag{1}\n",
    "$$\n",
    "Considering (1) as the (implicit) definition of the function $R(\\theta_0)$, we can differentiate both sides with respect to $\\theta_0$. In order for `sympy` to perform the implicit differentiation correctly, we must specify that $R$ is a function of $\\theta_0$."
   ]
  },
  {
   "cell_type": "code",
   "execution_count": 25,
   "metadata": {},
   "outputs": [
    {
     "data": {
      "image/png": "[encoded data removed]",
      "text/latex": [
       "$$- \\frac{g R^{2}{\\left (\\theta_{0} \\right )}}{2 v_{0}^{2} \\cos^{2}{\\left (\\theta_{0} \\right )}} + h + R{\\left (\\theta_{0} \\right )} \\tan{\\left (\\theta_{0} \\right )}$$"
      ],
      "text/plain": [
       "        2                           \n",
       "     g⋅R (θ₀)                       \n",
       "- ────────────── + h + R(θ₀)⋅tan(θ₀)\n",
       "      2    2                        \n",
       "  2⋅v₀ ⋅cos (θ₀)                    "
      ]
     },
     "execution_count": 25,
     "metadata": {},
     "output_type": "execute_result"
    }
   ],
   "source": [
    "h, v0, theta0, g = symbols('h, v_0, theta_0, g')\n",
    "R = Function('R')(theta0)\n",
    "\n",
    "RHS = h + tan(theta0)*R - g*R**2/(2*(v0*cos(theta0))**2)\n",
    "RHS"
   ]
  },
  {
   "cell_type": "code",
   "execution_count": 26,
   "metadata": {},
   "outputs": [
    {
     "data": {
      "image/png": "[encoded data removed]",
      "text/latex": [
       "$$- \\frac{g R^{2}{\\left (\\theta_{0} \\right )} \\sin{\\left (\\theta_{0} \\right )}}{v_{0}^{2} \\cos^{3}{\\left (\\theta_{0} \\right )}} - \\frac{g R{\\left (\\theta_{0} \\right )} \\frac{d}{d \\theta_{0}} R{\\left (\\theta_{0} \\right )}}{v_{0}^{2} \\cos^{2}{\\left (\\theta_{0} \\right )}} + \\left(\\tan^{2}{\\left (\\theta_{0} \\right )} + 1\\right) R{\\left (\\theta_{0} \\right )} + \\tan{\\left (\\theta_{0} \\right )} \\frac{d}{d \\theta_{0}} R{\\left (\\theta_{0} \\right )}$$"
      ],
      "text/plain": [
       "                              d                                               \n",
       "     2               g⋅R(θ₀)⋅───(R(θ₀))                                       \n",
       "  g⋅R (θ₀)⋅sin(θ₀)           dθ₀          ⎛   2        ⎞                  d   \n",
       "- ──────────────── - ────────────────── + ⎝tan (θ₀) + 1⎠⋅R(θ₀) + tan(θ₀)⋅───(R\n",
       "      2    3              2    2                                         dθ₀  \n",
       "    v₀ ⋅cos (θ₀)        v₀ ⋅cos (θ₀)                                          \n",
       "\n",
       "     \n",
       "     \n",
       "     \n",
       "(θ₀))\n",
       "     \n",
       "     "
      ]
     },
     "execution_count": 26,
     "metadata": {},
     "output_type": "execute_result"
    }
   ],
   "source": [
    "d = diff(RHS, theta0)\n",
    "d"
   ]
  },
  {
   "cell_type": "code",
   "execution_count": 27,
   "metadata": {
    "scrolled": true
   },
   "outputs": [
    {
     "data": {
      "image/png": "[encoded data removed]",
      "text/latex": [
       "$$\\left [ \\left \\{ \\frac{d}{d \\theta_{0}} R{\\left (\\theta_{0} \\right )} : \\frac{\\left(- g R{\\left (\\theta_{0} \\right )} \\tan{\\left (\\theta_{0} \\right )} + v_{0}^{2}\\right) R{\\left (\\theta_{0} \\right )}}{g R{\\left (\\theta_{0} \\right )} - v_{0}^{2} \\sin{\\left (\\theta_{0} \\right )} \\cos{\\left (\\theta_{0} \\right )}}\\right \\}\\right ]$$"
      ],
      "text/plain": [
       "⎡⎧            ⎛                     2⎞      ⎫⎤\n",
       "⎢⎪ d          ⎝-g⋅R(θ₀)⋅tan(θ₀) + v₀ ⎠⋅R(θ₀)⎪⎥\n",
       "⎢⎨───(R(θ₀)): ──────────────────────────────⎬⎥\n",
       "⎢⎪dθ₀                     2                 ⎪⎥\n",
       "⎣⎩            g⋅R(θ₀) - v₀ ⋅sin(θ₀)⋅cos(θ₀) ⎭⎦"
      ]
     },
     "execution_count": 27,
     "metadata": {},
     "output_type": "execute_result"
    }
   ],
   "source": [
    "d_R_d_theta0 = solve(d, R.diff(theta0), dict=True) # list containing only one solution\n",
    "d_R_d_theta0"
   ]
  },
  {
   "cell_type": "markdown",
   "metadata": {},
   "source": [
    "Let's store the above expression on its own, rather than wrapped in a dictionary and a list:"
   ]
  },
  {
   "cell_type": "code",
   "execution_count": 28,
   "metadata": {},
   "outputs": [
    {
     "data": {
      "image/png": "[encoded data removed]",
      "text/latex": [
       "$$\\frac{\\left(- g R{\\left (\\theta_{0} \\right )} \\tan{\\left (\\theta_{0} \\right )} + v_{0}^{2}\\right) R{\\left (\\theta_{0} \\right )}}{g R{\\left (\\theta_{0} \\right )} - v_{0}^{2} \\sin{\\left (\\theta_{0} \\right )} \\cos{\\left (\\theta_{0} \\right )}}$$"
      ],
      "text/plain": [
       "⎛                     2⎞      \n",
       "⎝-g⋅R(θ₀)⋅tan(θ₀) + v₀ ⎠⋅R(θ₀)\n",
       "──────────────────────────────\n",
       "            2                 \n",
       "g⋅R(θ₀) - v₀ ⋅sin(θ₀)⋅cos(θ₀) "
      ]
     },
     "execution_count": 28,
     "metadata": {},
     "output_type": "execute_result"
    }
   ],
   "source": [
    "d_R_d_theta0 = solve(d, R.diff(theta0))[0] # list containing only one solution\n",
    "d_R_d_theta0"
   ]
  },
  {
   "cell_type": "markdown",
   "metadata": {},
   "source": [
    "We maximise the range by setting the above derivative equal to zero."
   ]
  },
  {
   "cell_type": "code",
   "execution_count": 29,
   "metadata": {},
   "outputs": [
    {
     "data": {
      "image/png": "[encoded data removed]",
      "text/latex": [
       "$$\\left [ 0, \\quad \\frac{v_{0}^{2}}{g \\tan{\\left (\\theta_{0} \\right )}}\\right ]$$"
      ],
      "text/plain": [
       "⎡        2   ⎤\n",
       "⎢      v₀    ⎥\n",
       "⎢0, ─────────⎥\n",
       "⎣   g⋅tan(θ₀)⎦"
      ]
     },
     "execution_count": 29,
     "metadata": {},
     "output_type": "execute_result"
    }
   ],
   "source": [
    "R_sols = solve(d_R_d_theta0, R)\n",
    "R_sols"
   ]
  },
  {
   "cell_type": "markdown",
   "metadata": {},
   "source": [
    "So, for maximum $R(\\theta_0)$,\n",
    "$$\n",
    "    R(\\theta_0)=\\frac{v_0^2}{g\\tan{\\theta_0}}.\n",
    "$$\n",
    "Let's sub this back into (1) and then solve for $\\theta_0$:"
   ]
  },
  {
   "cell_type": "code",
   "execution_count": 30,
   "metadata": {},
   "outputs": [
    {
     "data": {
      "image/png": "[encoded data removed]",
      "text/latex": [
       "$$\\frac{2 g h + v_{0}^{2} - \\frac{v_{0}^{2}}{\\tan^{2}{\\left (\\theta_{0} \\right )}}}{2 g}$$"
      ],
      "text/plain": [
       "                  2   \n",
       "          2     v₀    \n",
       "2⋅g⋅h + v₀  - ────────\n",
       "                 2    \n",
       "              tan (θ₀)\n",
       "──────────────────────\n",
       "         2⋅g          "
      ]
     },
     "execution_count": 30,
     "metadata": {},
     "output_type": "execute_result"
    }
   ],
   "source": [
    "R_sol = R_sols[1]\n",
    "rhs = RHS.subs(R, R_sol).simplify()\n",
    "rhs"
   ]
  },
  {
   "cell_type": "code",
   "execution_count": 31,
   "metadata": {},
   "outputs": [
    {
     "data": {
      "image/png": "[encoded data removed]",
      "text/latex": [
       "$$\\left [ - \\operatorname{atan}{\\left (v_{0} \\sqrt{\\frac{1}{2 g h + v_{0}^{2}}} \\right )}, \\quad \\operatorname{atan}{\\left (v_{0} \\sqrt{\\frac{1}{2 g h + v_{0}^{2}}} \\right )}\\right ]$$"
      ],
      "text/plain": [
       "⎡     ⎛        _____________⎞      ⎛        _____________⎞⎤\n",
       "⎢     ⎜       ╱      1      ⎟      ⎜       ╱      1      ⎟⎥\n",
       "⎢-atan⎜v₀⋅   ╱  ─────────── ⎟, atan⎜v₀⋅   ╱  ─────────── ⎟⎥\n",
       "⎢     ⎜     ╱             2 ⎟      ⎜     ╱             2 ⎟⎥\n",
       "⎣     ⎝   ╲╱    2⋅g⋅h + v₀  ⎠      ⎝   ╲╱    2⋅g⋅h + v₀  ⎠⎦"
      ]
     },
     "execution_count": 31,
     "metadata": {},
     "output_type": "execute_result"
    }
   ],
   "source": [
    "sols = solve(rhs, theta0)\n",
    "sols"
   ]
  },
  {
   "cell_type": "markdown",
   "metadata": {},
   "source": [
    "Sanity check: when $h=0$, we have $\\theta_0=\\tan^{-1}(1)=45^\\circ$, so we take the latter solution:"
   ]
  },
  {
   "cell_type": "code",
   "execution_count": 32,
   "metadata": {},
   "outputs": [
    {
     "data": {
      "image/png": "[encoded data removed]",
      "text/latex": [
       "$$\\operatorname{atan}{\\left (v_{0} \\sqrt{\\frac{1}{2 g h + v_{0}^{2}}} \\right )}$$"
      ],
      "text/plain": [
       "    ⎛        _____________⎞\n",
       "    ⎜       ╱      1      ⎟\n",
       "atan⎜v₀⋅   ╱  ─────────── ⎟\n",
       "    ⎜     ╱             2 ⎟\n",
       "    ⎝   ╲╱    2⋅g⋅h + v₀  ⎠"
      ]
     },
     "execution_count": 32,
     "metadata": {},
     "output_type": "execute_result"
    }
   ],
   "source": [
    "sol = sols[1]\n",
    "sol"
   ]
  },
  {
   "cell_type": "markdown",
   "metadata": {},
   "source": [
    "**Observe:** the taller the athlete, the smaller the optimal launch angle. Let's plug in some realistic numbers for Olympic shot put:"
   ]
  },
  {
   "cell_type": "code",
   "execution_count": 33,
   "metadata": {},
   "outputs": [
    {
     "data": {
      "image/png": "[encoded data removed]",
      "text/latex": [
       "$$44.6539021146367$$"
      ],
      "text/plain": [
       "44.6539021146367"
      ]
     },
     "execution_count": 33,
     "metadata": {},
     "output_type": "execute_result"
    }
   ],
   "source": [
    "import math\n",
    "\n",
    "# show answer in degrees, rather than radians:\n",
    "math.degrees(sol.subs([(h, 1.8), (v0, 38), (g, 9.81)]))"
   ]
  },
  {
   "cell_type": "markdown",
   "metadata": {},
   "source": [
    "As we can see, the height of the athlete does not greatly impact the optimal launch angle."
   ]
  },
  {
   "cell_type": "markdown",
   "metadata": {},
   "source": [
    "# Problems"
   ]
  },
  {
   "cell_type": "markdown",
   "metadata": {},
   "source": [
    "## Problem 1\n",
    "\n",
    "Use `sympy` to derive all five equations of motion for constant acceleration (recall that we have already done this by hand in class)."
   ]
  },
  {
   "cell_type": "code",
   "execution_count": 34,
   "metadata": {},
   "outputs": [
    {
     "data": {
      "image/png": "[encoded data removed]",
      "text/latex": [
       "$$v{\\left (t \\right )} = a t + v_{0}$$"
      ],
      "text/plain": [
       "v(t) = a⋅t + v₀"
      ]
     },
     "execution_count": 34,
     "metadata": {},
     "output_type": "execute_result"
    }
   ],
   "source": [
    "x, x0, v, v0, a, t = symbols('x, x_0, v, v_0, a, t')\n",
    "x_ = Function('x')\n",
    "v_ = Function('v')\n",
    "\n",
    "conditions = {v_(0): v0}\n",
    "eq1 = dsolve(Derivative(v_(t), t) - a, v_(t), ics=conditions)\n",
    "eq1"
   ]
  },
  {
   "cell_type": "code",
   "execution_count": 35,
   "metadata": {},
   "outputs": [
    {
     "data": {
      "image/png": "[encoded data removed]",
      "text/latex": [
       "$$x{\\left (t \\right )} = \\frac{a t^{2}}{2} + t v_{0} + x_{0}$$"
      ],
      "text/plain": [
       "          2            \n",
       "       a⋅t             \n",
       "x(t) = ──── + t⋅v₀ + x₀\n",
       "        2              "
      ]
     },
     "execution_count": 35,
     "metadata": {},
     "output_type": "execute_result"
    }
   ],
   "source": [
    "conditions = {x_(0): x0, Derivative(x_(t),t).subs(t, 0): v0}\n",
    "eq2 = dsolve(Derivative(x_(t), t, t) - a, x_(t), ics=conditions)\n",
    "eq2"
   ]
  },
  {
   "cell_type": "markdown",
   "metadata": {},
   "source": [
    "Swap out the functions for symbols to facilitate algebraic manipulation:"
   ]
  },
  {
   "cell_type": "code",
   "execution_count": 36,
   "metadata": {},
   "outputs": [
    {
     "data": {
      "image/png": "[encoded data removed]",
      "text/latex": [
       "$$v = a t + v_{0}$$"
      ],
      "text/plain": [
       "v = a⋅t + v₀"
      ]
     },
     "execution_count": 36,
     "metadata": {},
     "output_type": "execute_result"
    }
   ],
   "source": [
    "eq1 = eq1.subs(v_(t), v)\n",
    "eq1"
   ]
  },
  {
   "cell_type": "code",
   "execution_count": 37,
   "metadata": {},
   "outputs": [
    {
     "data": {
      "image/png": "[encoded data removed]",
      "text/latex": [
       "$$x = \\frac{a t^{2}}{2} + t v_{0} + x_{0}$$"
      ],
      "text/plain": [
       "       2            \n",
       "    a⋅t             \n",
       "x = ──── + t⋅v₀ + x₀\n",
       "     2              "
      ]
     },
     "execution_count": 37,
     "metadata": {},
     "output_type": "execute_result"
    }
   ],
   "source": [
    "eq2 = eq2.subs(x_(t), x)\n",
    "eq2"
   ]
  },
  {
   "cell_type": "markdown",
   "metadata": {},
   "source": [
    "Eliminating each of the remaining three variables gives the three remaining equations of motion:"
   ]
  },
  {
   "cell_type": "code",
   "execution_count": 38,
   "metadata": {},
   "outputs": [
    {
     "data": {
      "image/png": "[encoded data removed]",
      "text/latex": [
       "$$x = \\frac{2 a x_{0} + v^{2} - v_{0}^{2}}{2 a}$$"
      ],
      "text/plain": [
       "              2     2\n",
       "    2⋅a⋅x₀ + v  - v₀ \n",
       "x = ─────────────────\n",
       "           2⋅a       "
      ]
     },
     "execution_count": 38,
     "metadata": {},
     "output_type": "execute_result"
    }
   ],
   "source": [
    "# Eliminate t\n",
    "eq2.subs(t, solve(eq1, t)[0]).simplify()"
   ]
  },
  {
   "cell_type": "code",
   "execution_count": 39,
   "metadata": {},
   "outputs": [
    {
     "data": {
      "image/png": "[encoded data removed]",
      "text/latex": [
       "$$x = - \\frac{a t^{2}}{2} + t v + x_{0}$$"
      ],
      "text/plain": [
       "         2           \n",
       "      a⋅t            \n",
       "x = - ──── + t⋅v + x₀\n",
       "       2             "
      ]
     },
     "execution_count": 39,
     "metadata": {},
     "output_type": "execute_result"
    }
   ],
   "source": [
    "# Eliminate v0\n",
    "eq2.subs(v0, solve(eq1, v0)[0]).simplify()"
   ]
  },
  {
   "cell_type": "code",
   "execution_count": 40,
   "metadata": {},
   "outputs": [
    {
     "data": {
      "image/png": "[encoded data removed]",
      "text/latex": [
       "$$x = \\frac{t v}{2} + \\frac{t v_{0}}{2} + x_{0}$$"
      ],
      "text/plain": [
       "    t⋅v   t⋅v₀     \n",
       "x = ─── + ──── + x₀\n",
       "     2     2       "
      ]
     },
     "execution_count": 40,
     "metadata": {},
     "output_type": "execute_result"
    }
   ],
   "source": [
    "# Eliminate a\n",
    "eq2.subs(a, solve(eq1, a)[0]).simplify()"
   ]
  },
  {
   "cell_type": "markdown",
   "metadata": {},
   "source": [
    "## Problem 2\n",
    "\n",
    "Let us now consider the impact of air resistance on the optimal launch angle for the shot put. Suppose, as above, that the shot put is launched from a height of $h=1.8$ m above the ground with speed $v_0=38$ m s$^{-1}$ at an angle $\\theta_0$ above the horizontal. Suppose the shot put has a mass of 4 kg, is 10 cm in diameter and has a drag coefficient of $C=0.47$. Assume the density of air is 1.225 kg m$^{-3}$ and acceleration due to gravity at the earth's surface is $g=9.81$ m s$^{-2}$.\n",
    "\n",
    "**(a)** Choose a few different values of $\\theta_0$, and, for each one, numerically compute the trajectory of the shot put (using the `odeint` function). Plot the trajectories on the same graph and compute the approximate range for each trajectory."
   ]
  },
  {
   "cell_type": "code",
   "execution_count": 42,
   "metadata": {
    "scrolled": false
   },
   "outputs": [
    {
     "data": {
      "application/javascript": [
       "/* Put everything inside the global mpl namespace */\n",
       "window.mpl = {};\n",
       "\n",
       "\n",
       "mpl.get_websocket_type = function() {\n",
       "    if (typeof(WebSocket) !== 'undefined') {\n",
       "        return WebSocket;\n",
       "    } else if (typeof(MozWebSocket) !== 'undefined') {\n",
       "        return MozWebSocket;\n",
       "    } else {\n",
       "        alert('Your browser does not have WebSocket support.' +\n",
       "              'Please try Chrome, Safari or Firefox ≥ 6. ' +\n",
       "              'Firefox 4 and 5 are also supported but you ' +\n",
       "              'have to enable WebSockets in about:config.');\n",
       "    };\n",
       "}\n",
       "\n",
       "mpl.figure = function(figure_id, websocket, ondownload, parent_element) {\n",
       "    this.id = figure_id;\n",
       "\n",
       "    this.ws = websocket;\n",
       "\n",
       "    this.supports_binary = (this.ws.binaryType != undefined);\n",
       "\n",
       "    if (!this.supports_binary) {\n",
       "        var warnings = document.getElementById(\"mpl-warnings\");\n",
       "        if (warnings) {\n",
       "            warnings.style.display = 'block';\n",
       "            warnings.textContent = (\n",
       "                \"This browser does not support binary websocket messages. \" +\n",
       "                    \"Performance may be slow.\");\n",
       "        }\n",
       "    }\n",
       "\n",
       "    this.imageObj = new Image();\n",
       "\n",
       "    this.context = undefined;\n",
       "    this.message = undefined;\n",
       "    this.canvas = undefined;\n",
       "    this.rubberband_canvas = undefined;\n",
       "    this.rubberband_context = undefined;\n",
       "    this.format_dropdown = undefined;\n",
       "\n",
       "    this.image_mode = 'full';\n",
       "\n",
       "    this.root = $('<div/>');\n",
       "    this._root_extra_style(this.root)\n",
       "    this.root.attr('style', 'display: inline-block');\n",
       "\n",
       "    $(parent_element).append(this.root);\n",
       "\n",
       "    this._init_header(this);\n",
       "    this._init_canvas(this);\n",
       "    this._init_toolbar(this);\n",
       "\n",
       "    var fig = this;\n",
       "\n",
       "    this.waiting = false;\n",
       "\n",
       "    this.ws.onopen =  function () {\n",
       "            fig.send_message(\"supports_binary\", {value: fig.supports_binary});\n",
       "            fig.send_message(\"send_image_mode\", {});\n",
       "            if (mpl.ratio != 1) {\n",
       "                fig.send_message(\"set_dpi_ratio\", {'dpi_ratio': mpl.ratio});\n",
       "            }\n",
       "            fig.send_message(\"refresh\", {});\n",
       "        }\n",
       "\n",
       "    this.imageObj.onload = function() {\n",
       "            if (fig.image_mode == 'full') {\n",
       "                // Full images could contain transparency (where diff images\n",
       "                // almost always do), so we need to clear the canvas so that\n",
       "                // there is no ghosting.\n",
       "                fig.context.clearRect(0, 0, fig.canvas.width, fig.canvas.height);\n",
       "            }\n",
       "            fig.context.drawImage(fig.imageObj, 0, 0);\n",
       "        };\n",
       "\n",
       "    this.imageObj.onunload = function() {\n",
       "        fig.ws.close();\n",
       "    }\n",
       "\n",
       "    this.ws.onmessage = this._make_on_message_function(this);\n",
       "\n",
       "    this.ondownload = ondownload;\n",
       "}\n",
       "\n",
       "mpl.figure.prototype._init_header = function() {\n",
       "    var titlebar = $(\n",
       "        '<div class=\"ui-dialog-titlebar ui-widget-header ui-corner-all ' +\n",
       "        'ui-helper-clearfix\"/>');\n",
       "    var titletext = $(\n",
       "        '<div class=\"ui-dialog-title\" style=\"width: 100%; ' +\n",
       "        'text-align: center; padding: 3px;\"/>');\n",
       "    titlebar.append(titletext)\n",
       "    this.root.append(titlebar);\n",
       "    this.header = titletext[0];\n",
       "}\n",
       "\n",
       "\n",
       "\n",
       "mpl.figure.prototype._canvas_extra_style = function(canvas_div) {\n",
       "\n",
       "}\n",
       "\n",
       "\n",
       "mpl.figure.prototype._root_extra_style = function(canvas_div) {\n",
       "\n",
       "}\n",
       "\n",
       "mpl.figure.prototype._init_canvas = function() {\n",
       "    var fig = this;\n",
       "\n",
       "    var canvas_div = $('<div/>');\n",
       "\n",
       "    canvas_div.attr('style', 'position: relative; clear: both; outline: 0');\n",
       "\n",
       "    function canvas_keyboard_event(event) {\n",
       "        return fig.key_event(event, event['data']);\n",
       "    }\n",
       "\n",
       "    canvas_div.keydown('key_press', canvas_keyboard_event);\n",
       "    canvas_div.keyup('key_release', canvas_keyboard_event);\n",
       "    this.canvas_div = canvas_div\n",
       "    this._canvas_extra_style(canvas_div)\n",
       "    this.root.append(canvas_div);\n",
       "\n",
       "    var canvas = $('<canvas/>');\n",
       "    canvas.addClass('mpl-canvas');\n",
       "    canvas.attr('style', \"left: 0; top: 0; z-index: 0; outline: 0\")\n",
       "\n",
       "    this.canvas = canvas[0];\n",
       "    this.context = canvas[0].getContext(\"2d\");\n",
       "\n",
       "    var backingStore = this.context.backingStorePixelRatio ||\n",
       "\tthis.context.webkitBackingStorePixelRatio ||\n",
       "\tthis.context.mozBackingStorePixelRatio ||\n",
       "\tthis.context.msBackingStorePixelRatio ||\n",
       "\tthis.context.oBackingStorePixelRatio ||\n",
       "\tthis.context.backingStorePixelRatio || 1;\n",
       "\n",
       "    mpl.ratio = (window.devicePixelRatio || 1) / backingStore;\n",
       "\n",
       "    var rubberband = $('<canvas/>');\n",
       "    rubberband.attr('style', \"position: absolute; left: 0; top: 0; z-index: 1;\")\n",
       "\n",
       "    var pass_mouse_events = true;\n",
       "\n",
       "    canvas_div.resizable({\n",
       "        start: function(event, ui) {\n",
       "            pass_mouse_events = false;\n",
       "        },\n",
       "        resize: function(event, ui) {\n",
       "            fig.request_resize(ui.size.width, ui.size.height);\n",
       "        },\n",
       "        stop: function(event, ui) {\n",
       "            pass_mouse_events = true;\n",
       "            fig.request_resize(ui.size.width, ui.size.height);\n",
       "        },\n",
       "    });\n",
       "\n",
       "    function mouse_event_fn(event) {\n",
       "        if (pass_mouse_events)\n",
       "            return fig.mouse_event(event, event['data']);\n",
       "    }\n",
       "\n",
       "    rubberband.mousedown('button_press', mouse_event_fn);\n",
       "    rubberband.mouseup('button_release', mouse_event_fn);\n",
       "    // Throttle sequential mouse events to 1 every 20ms.\n",
       "    rubberband.mousemove('motion_notify', mouse_event_fn);\n",
       "\n",
       "    rubberband.mouseenter('figure_enter', mouse_event_fn);\n",
       "    rubberband.mouseleave('figure_leave', mouse_event_fn);\n",
       "\n",
       "    canvas_div.on(\"wheel\", function (event) {\n",
       "        event = event.originalEvent;\n",
       "        event['data'] = 'scroll'\n",
       "        if (event.deltaY < 0) {\n",
       "            event.step = 1;\n",
       "        } else {\n",
       "            event.step = -1;\n",
       "        }\n",
       "        mouse_event_fn(event);\n",
       "    });\n",
       "\n",
       "    canvas_div.append(canvas);\n",
       "    canvas_div.append(rubberband);\n",
       "\n",
       "    this.rubberband = rubberband;\n",
       "    this.rubberband_canvas = rubberband[0];\n",
       "    this.rubberband_context = rubberband[0].getContext(\"2d\");\n",
       "    this.rubberband_context.strokeStyle = \"#000000\";\n",
       "\n",
       "    this._resize_canvas = function(width, height) {\n",
       "        // Keep the size of the canvas, canvas container, and rubber band\n",
       "        // canvas in synch.\n",
       "        canvas_div.css('width', width)\n",
       "        canvas_div.css('height', height)\n",
       "\n",
       "        canvas.attr('width', width * mpl.ratio);\n",
       "        canvas.attr('height', height * mpl.ratio);\n",
       "        canvas.attr('style', 'width: ' + width + 'px; height: ' + height + 'px;');\n",
       "\n",
       "        rubberband.attr('width', width);\n",
       "        rubberband.attr('height', height);\n",
       "    }\n",
       "\n",
       "    // Set the figure to an initial 600x600px, this will subsequently be updated\n",
       "    // upon first draw.\n",
       "    this._resize_canvas(600, 600);\n",
       "\n",
       "    // Disable right mouse context menu.\n",
       "    $(this.rubberband_canvas).bind(\"contextmenu\",function(e){\n",
       "        return false;\n",
       "    });\n",
       "\n",
       "    function set_focus () {\n",
       "        canvas.focus();\n",
       "        canvas_div.focus();\n",
       "    }\n",
       "\n",
       "    window.setTimeout(set_focus, 100);\n",
       "}\n",
       "\n",
       "mpl.figure.prototype._init_toolbar = function() {\n",
       "    var fig = this;\n",
       "\n",
       "    var nav_element = $('<div/>')\n",
       "    nav_element.attr('style', 'width: 100%');\n",
       "    this.root.append(nav_element);\n",
       "\n",
       "    // Define a callback function for later on.\n",
       "    function toolbar_event(event) {\n",
       "        return fig.toolbar_button_onclick(event['data']);\n",
       "    }\n",
       "    function toolbar_mouse_event(event) {\n",
       "        return fig.toolbar_button_onmouseover(event['data']);\n",
       "    }\n",
       "\n",
       "    for(var toolbar_ind in mpl.toolbar_items) {\n",
       "        var name = mpl.toolbar_items[toolbar_ind][0];\n",
       "        var tooltip = mpl.toolbar_items[toolbar_ind][1];\n",
       "        var image = mpl.toolbar_items[toolbar_ind][2];\n",
       "        var method_name = mpl.toolbar_items[toolbar_ind][3];\n",
       "\n",
       "        if (!name) {\n",
       "            // put a spacer in here.\n",
       "            continue;\n",
       "        }\n",
       "        var button = $('<button/>');\n",
       "        button.addClass('ui-button ui-widget ui-state-default ui-corner-all ' +\n",
       "                        'ui-button-icon-only');\n",
       "        button.attr('role', 'button');\n",
       "        button.attr('aria-disabled', 'false');\n",
       "        button.click(method_name, toolbar_event);\n",
       "        button.mouseover(tooltip, toolbar_mouse_event);\n",
       "\n",
       "        var icon_img = $('<span/>');\n",
       "        icon_img.addClass('ui-button-icon-primary ui-icon');\n",
       "        icon_img.addClass(image);\n",
       "        icon_img.addClass('ui-corner-all');\n",
       "\n",
       "        var tooltip_span = $('<span/>');\n",
       "        tooltip_span.addClass('ui-button-text');\n",
       "        tooltip_span.html(tooltip);\n",
       "\n",
       "        button.append(icon_img);\n",
       "        button.append(tooltip_span);\n",
       "\n",
       "        nav_element.append(button);\n",
       "    }\n",
       "\n",
       "    var fmt_picker_span = $('<span/>');\n",
       "\n",
       "    var fmt_picker = $('<select/>');\n",
       "    fmt_picker.addClass('mpl-toolbar-option ui-widget ui-widget-content');\n",
       "    fmt_picker_span.append(fmt_picker);\n",
       "    nav_element.append(fmt_picker_span);\n",
       "    this.format_dropdown = fmt_picker[0];\n",
       "\n",
       "    for (var ind in mpl.extensions) {\n",
       "        var fmt = mpl.extensions[ind];\n",
       "        var option = $(\n",
       "            '<option/>', {selected: fmt === mpl.default_extension}).html(fmt);\n",
       "        fmt_picker.append(option)\n",
       "    }\n",
       "\n",
       "    // Add hover states to the ui-buttons\n",
       "    $( \".ui-button\" ).hover(\n",
       "        function() { $(this).addClass(\"ui-state-hover\");},\n",
       "        function() { $(this).removeClass(\"ui-state-hover\");}\n",
       "    );\n",
       "\n",
       "    var status_bar = $('<span class=\"mpl-message\"/>');\n",
       "    nav_element.append(status_bar);\n",
       "    this.message = status_bar[0];\n",
       "}\n",
       "\n",
       "mpl.figure.prototype.request_resize = function(x_pixels, y_pixels) {\n",
       "    // Request matplotlib to resize the figure. Matplotlib will then trigger a resize in the client,\n",
       "    // which will in turn request a refresh of the image.\n",
       "    this.send_message('resize', {'width': x_pixels, 'height': y_pixels});\n",
       "}\n",
       "\n",
       "mpl.figure.prototype.send_message = function(type, properties) {\n",
       "    properties['type'] = type;\n",
       "    properties['figure_id'] = this.id;\n",
       "    this.ws.send(JSON.stringify(properties));\n",
       "}\n",
       "\n",
       "mpl.figure.prototype.send_draw_message = function() {\n",
       "    if (!this.waiting) {\n",
       "        this.waiting = true;\n",
       "        this.ws.send(JSON.stringify({type: \"draw\", figure_id: this.id}));\n",
       "    }\n",
       "}\n",
       "\n",
       "\n",
       "mpl.figure.prototype.handle_save = function(fig, msg) {\n",
       "    var format_dropdown = fig.format_dropdown;\n",
       "    var format = format_dropdown.options[format_dropdown.selectedIndex].value;\n",
       "    fig.ondownload(fig, format);\n",
       "}\n",
       "\n",
       "\n",
       "mpl.figure.prototype.handle_resize = function(fig, msg) {\n",
       "    var size = msg['size'];\n",
       "    if (size[0] != fig.canvas.width || size[1] != fig.canvas.height) {\n",
       "        fig._resize_canvas(size[0], size[1]);\n",
       "        fig.send_message(\"refresh\", {});\n",
       "    };\n",
       "}\n",
       "\n",
       "mpl.figure.prototype.handle_rubberband = function(fig, msg) {\n",
       "    var x0 = msg['x0'] / mpl.ratio;\n",
       "    var y0 = (fig.canvas.height - msg['y0']) / mpl.ratio;\n",
       "    var x1 = msg['x1'] / mpl.ratio;\n",
       "    var y1 = (fig.canvas.height - msg['y1']) / mpl.ratio;\n",
       "    x0 = Math.floor(x0) + 0.5;\n",
       "    y0 = Math.floor(y0) + 0.5;\n",
       "    x1 = Math.floor(x1) + 0.5;\n",
       "    y1 = Math.floor(y1) + 0.5;\n",
       "    var min_x = Math.min(x0, x1);\n",
       "    var min_y = Math.min(y0, y1);\n",
       "    var width = Math.abs(x1 - x0);\n",
       "    var height = Math.abs(y1 - y0);\n",
       "\n",
       "    fig.rubberband_context.clearRect(\n",
       "        0, 0, fig.canvas.width, fig.canvas.height);\n",
       "\n",
       "    fig.rubberband_context.strokeRect(min_x, min_y, width, height);\n",
       "}\n",
       "\n",
       "mpl.figure.prototype.handle_figure_label = function(fig, msg) {\n",
       "    // Updates the figure title.\n",
       "    fig.header.textContent = msg['label'];\n",
       "}\n",
       "\n",
       "mpl.figure.prototype.handle_cursor = function(fig, msg) {\n",
       "    var cursor = msg['cursor'];\n",
       "    switch(cursor)\n",
       "    {\n",
       "    case 0:\n",
       "        cursor = 'pointer';\n",
       "        break;\n",
       "    case 1:\n",
       "        cursor = 'default';\n",
       "        break;\n",
       "    case 2:\n",
       "        cursor = 'crosshair';\n",
       "        break;\n",
       "    case 3:\n",
       "        cursor = 'move';\n",
       "        break;\n",
       "    }\n",
       "    fig.rubberband_canvas.style.cursor = cursor;\n",
       "}\n",
       "\n",
       "mpl.figure.prototype.handle_message = function(fig, msg) {\n",
       "    fig.message.textContent = msg['message'];\n",
       "}\n",
       "\n",
       "mpl.figure.prototype.handle_draw = function(fig, msg) {\n",
       "    // Request the server to send over a new figure.\n",
       "    fig.send_draw_message();\n",
       "}\n",
       "\n",
       "mpl.figure.prototype.handle_image_mode = function(fig, msg) {\n",
       "    fig.image_mode = msg['mode'];\n",
       "}\n",
       "\n",
       "mpl.figure.prototype.updated_canvas_event = function() {\n",
       "    // Called whenever the canvas gets updated.\n",
       "    this.send_message(\"ack\", {});\n",
       "}\n",
       "\n",
       "// A function to construct a web socket function for onmessage handling.\n",
       "// Called in the figure constructor.\n",
       "mpl.figure.prototype._make_on_message_function = function(fig) {\n",
       "    return function socket_on_message(evt) {\n",
       "        if (evt.data instanceof Blob) {\n",
       "            /* FIXME: We get \"Resource interpreted as Image but\n",
       "             * transferred with MIME type text/plain:\" errors on\n",
       "             * Chrome.  But how to set the MIME type?  It doesn't seem\n",
       "             * to be part of the websocket stream */\n",
       "            evt.data.type = \"image/png\";\n",
       "\n",
       "            /* Free the memory for the previous frames */\n",
       "            if (fig.imageObj.src) {\n",
       "                (window.URL || window.webkitURL).revokeObjectURL(\n",
       "                    fig.imageObj.src);\n",
       "            }\n",
       "\n",
       "            fig.imageObj.src = (window.URL || window.webkitURL).createObjectURL(\n",
       "                evt.data);\n",
       "            fig.updated_canvas_event();\n",
       "            fig.waiting = false;\n",
       "            return;\n",
       "        }\n",
       "        else if (typeof evt.data === 'string' && evt.data.slice(0, 21) == \"data:image/png;base64\") {\n",
       "            fig.imageObj.src = evt.data;\n",
       "            fig.updated_canvas_event();\n",
       "            fig.waiting = false;\n",
       "            return;\n",
       "        }\n",
       "\n",
       "        var msg = JSON.parse(evt.data);\n",
       "        var msg_type = msg['type'];\n",
       "\n",
       "        // Call the  \"handle_{type}\" callback, which takes\n",
       "        // the figure and JSON message as its only arguments.\n",
       "        try {\n",
       "            var callback = fig[\"handle_\" + msg_type];\n",
       "        } catch (e) {\n",
       "            console.log(\"No handler for the '\" + msg_type + \"' message type: \", msg);\n",
       "            return;\n",
       "        }\n",
       "\n",
       "        if (callback) {\n",
       "            try {\n",
       "                // console.log(\"Handling '\" + msg_type + \"' message: \", msg);\n",
       "                callback(fig, msg);\n",
       "            } catch (e) {\n",
       "                console.log(\"Exception inside the 'handler_\" + msg_type + \"' callback:\", e, e.stack, msg);\n",
       "            }\n",
       "        }\n",
       "    };\n",
       "}\n",
       "\n",
       "// from http://stackoverflow.com/questions/1114465/getting-mouse-location-in-canvas\n",
       "mpl.findpos = function(e) {\n",
       "    //this section is from http://www.quirksmode.org/js/events_properties.html\n",
       "    var targ;\n",
       "    if (!e)\n",
       "        e = window.event;\n",
       "    if (e.target)\n",
       "        targ = e.target;\n",
       "    else if (e.srcElement)\n",
       "        targ = e.srcElement;\n",
       "    if (targ.nodeType == 3) // defeat Safari bug\n",
       "        targ = targ.parentNode;\n",
       "\n",
       "    // jQuery normalizes the pageX and pageY\n",
       "    // pageX,Y are the mouse positions relative to the document\n",
       "    // offset() returns the position of the element relative to the document\n",
       "    var x = e.pageX - $(targ).offset().left;\n",
       "    var y = e.pageY - $(targ).offset().top;\n",
       "\n",
       "    return {\"x\": x, \"y\": y};\n",
       "};\n",
       "\n",
       "/*\n",
       " * return a copy of an object with only non-object keys\n",
       " * we need this to avoid circular references\n",
       " * http://stackoverflow.com/a/24161582/3208463\n",
       " */\n",
       "function simpleKeys (original) {\n",
       "  return Object.keys(original).reduce(function (obj, key) {\n",
       "    if (typeof original[key] !== 'object')\n",
       "        obj[key] = original[key]\n",
       "    return obj;\n",
       "  }, {});\n",
       "}\n",
       "\n",
       "mpl.figure.prototype.mouse_event = function(event, name) {\n",
       "    var canvas_pos = mpl.findpos(event)\n",
       "\n",
       "    if (name === 'button_press')\n",
       "    {\n",
       "        this.canvas.focus();\n",
       "        this.canvas_div.focus();\n",
       "    }\n",
       "\n",
       "    var x = canvas_pos.x * mpl.ratio;\n",
       "    var y = canvas_pos.y * mpl.ratio;\n",
       "\n",
       "    this.send_message(name, {x: x, y: y, button: event.button,\n",
       "                             step: event.step,\n",
       "                             guiEvent: simpleKeys(event)});\n",
       "\n",
       "    /* This prevents the web browser from automatically changing to\n",
       "     * the text insertion cursor when the button is pressed.  We want\n",
       "     * to control all of the cursor setting manually through the\n",
       "     * 'cursor' event from matplotlib */\n",
       "    event.preventDefault();\n",
       "    return false;\n",
       "}\n",
       "\n",
       "mpl.figure.prototype._key_event_extra = function(event, name) {\n",
       "    // Handle any extra behaviour associated with a key event\n",
       "}\n",
       "\n",
       "mpl.figure.prototype.key_event = function(event, name) {\n",
       "\n",
       "    // Prevent repeat events\n",
       "    if (name == 'key_press')\n",
       "    {\n",
       "        if (event.which === this._key)\n",
       "            return;\n",
       "        else\n",
       "            this._key = event.which;\n",
       "    }\n",
       "    if (name == 'key_release')\n",
       "        this._key = null;\n",
       "\n",
       "    var value = '';\n",
       "    if (event.ctrlKey && event.which != 17)\n",
       "        value += \"ctrl+\";\n",
       "    if (event.altKey && event.which != 18)\n",
       "        value += \"alt+\";\n",
       "    if (event.shiftKey && event.which != 16)\n",
       "        value += \"shift+\";\n",
       "\n",
       "    value += 'k';\n",
       "    value += event.which.toString();\n",
       "\n",
       "    this._key_event_extra(event, name);\n",
       "\n",
       "    this.send_message(name, {key: value,\n",
       "                             guiEvent: simpleKeys(event)});\n",
       "    return false;\n",
       "}\n",
       "\n",
       "mpl.figure.prototype.toolbar_button_onclick = function(name) {\n",
       "    if (name == 'download') {\n",
       "        this.handle_save(this, null);\n",
       "    } else {\n",
       "        this.send_message(\"toolbar_button\", {name: name});\n",
       "    }\n",
       "};\n",
       "\n",
       "mpl.figure.prototype.toolbar_button_onmouseover = function(tooltip) {\n",
       "    this.message.textContent = tooltip;\n",
       "};\n",
       "mpl.toolbar_items = [[\"Home\", \"Reset original view\", \"fa fa-home icon-home\", \"home\"], [\"Back\", \"Back to previous view\", \"fa fa-arrow-left icon-arrow-left\", \"back\"], [\"Forward\", \"Forward to next view\", \"fa fa-arrow-right icon-arrow-right\", \"forward\"], [\"\", \"\", \"\", \"\"], [\"Pan\", \"Pan axes with left mouse, zoom with right\", \"fa fa-arrows icon-move\", \"pan\"], [\"Zoom\", \"Zoom to rectangle\", \"fa fa-square-o icon-check-empty\", \"zoom\"], [\"\", \"\", \"\", \"\"], [\"Download\", \"Download plot\", \"fa fa-floppy-o icon-save\", \"download\"]];\n",
       "\n",
       "mpl.extensions = [\"eps\", \"jpeg\", \"pdf\", \"png\", \"ps\", \"raw\", \"svg\", \"tif\"];\n",
       "\n",
       "mpl.default_extension = \"png\";var comm_websocket_adapter = function(comm) {\n",
       "    // Create a \"websocket\"-like object which calls the given IPython comm\n",
       "    // object with the appropriate methods. Currently this is a non binary\n",
       "    // socket, so there is still some room for performance tuning.\n",
       "    var ws = {};\n",
       "\n",
       "    ws.close = function() {\n",
       "        comm.close()\n",
       "    };\n",
       "    ws.send = function(m) {\n",
       "        //console.log('sending', m);\n",
       "        comm.send(m);\n",
       "    };\n",
       "    // Register the callback with on_msg.\n",
       "    comm.on_msg(function(msg) {\n",
       "        //console.log('receiving', msg['content']['data'], msg);\n",
       "        // Pass the mpl event to the overridden (by mpl) onmessage function.\n",
       "        ws.onmessage(msg['content']['data'])\n",
       "    });\n",
       "    return ws;\n",
       "}\n",
       "\n",
       "mpl.mpl_figure_comm = function(comm, msg) {\n",
       "    // This is the function which gets called when the mpl process\n",
       "    // starts-up an IPython Comm through the \"matplotlib\" channel.\n",
       "\n",
       "    var id = msg.content.data.id;\n",
       "    // Get hold of the div created by the display call when the Comm\n",
       "    // socket was opened in Python.\n",
       "    var element = $(\"#\" + id);\n",
       "    var ws_proxy = comm_websocket_adapter(comm)\n",
       "\n",
       "    function ondownload(figure, format) {\n",
       "        window.open(figure.imageObj.src);\n",
       "    }\n",
       "\n",
       "    var fig = new mpl.figure(id, ws_proxy,\n",
       "                           ondownload,\n",
       "                           element.get(0));\n",
       "\n",
       "    // Call onopen now - mpl needs it, as it is assuming we've passed it a real\n",
       "    // web socket which is closed, not our websocket->open comm proxy.\n",
       "    ws_proxy.onopen();\n",
       "\n",
       "    fig.parent_element = element.get(0);\n",
       "    fig.cell_info = mpl.find_output_cell(\"<div id='\" + id + \"'></div>\");\n",
       "    if (!fig.cell_info) {\n",
       "        console.error(\"Failed to find cell for figure\", id, fig);\n",
       "        return;\n",
       "    }\n",
       "\n",
       "    var output_index = fig.cell_info[2]\n",
       "    var cell = fig.cell_info[0];\n",
       "\n",
       "};\n",
       "\n",
       "mpl.figure.prototype.handle_close = function(fig, msg) {\n",
       "    var width = fig.canvas.width/mpl.ratio\n",
       "    fig.root.unbind('remove')\n",
       "\n",
       "    // Update the output cell to use the data from the current canvas.\n",
       "    fig.push_to_output();\n",
       "    var dataURL = fig.canvas.toDataURL();\n",
       "    // Re-enable the keyboard manager in IPython - without this line, in FF,\n",
       "    // the notebook keyboard shortcuts fail.\n",
       "    IPython.keyboard_manager.enable()\n",
       "    $(fig.parent_element).html('<img src=\"' + dataURL + '\" width=\"' + width + '\">');\n",
       "    fig.close_ws(fig, msg);\n",
       "}\n",
       "\n",
       "mpl.figure.prototype.close_ws = function(fig, msg){\n",
       "    fig.send_message('closing', msg);\n",
       "    // fig.ws.close()\n",
       "}\n",
       "\n",
       "mpl.figure.prototype.push_to_output = function(remove_interactive) {\n",
       "    // Turn the data on the canvas into data in the output cell.\n",
       "    var width = this.canvas.width/mpl.ratio\n",
       "    var dataURL = this.canvas.toDataURL();\n",
       "    this.cell_info[1]['text/html'] = '<img src=\"' + dataURL + '\" width=\"' + width + '\">';\n",
       "}\n",
       "\n",
       "mpl.figure.prototype.updated_canvas_event = function() {\n",
       "    // Tell IPython that the notebook contents must change.\n",
       "    IPython.notebook.set_dirty(true);\n",
       "    this.send_message(\"ack\", {});\n",
       "    var fig = this;\n",
       "    // Wait a second, then push the new image to the DOM so\n",
       "    // that it is saved nicely (might be nice to debounce this).\n",
       "    setTimeout(function () { fig.push_to_output() }, 1000);\n",
       "}\n",
       "\n",
       "mpl.figure.prototype._init_toolbar = function() {\n",
       "    var fig = this;\n",
       "\n",
       "    var nav_element = $('<div/>')\n",
       "    nav_element.attr('style', 'width: 100%');\n",
       "    this.root.append(nav_element);\n",
       "\n",
       "    // Define a callback function for later on.\n",
       "    function toolbar_event(event) {\n",
       "        return fig.toolbar_button_onclick(event['data']);\n",
       "    }\n",
       "    function toolbar_mouse_event(event) {\n",
       "        return fig.toolbar_button_onmouseover(event['data']);\n",
       "    }\n",
       "\n",
       "    for(var toolbar_ind in mpl.toolbar_items){\n",
       "        var name = mpl.toolbar_items[toolbar_ind][0];\n",
       "        var tooltip = mpl.toolbar_items[toolbar_ind][1];\n",
       "        var image = mpl.toolbar_items[toolbar_ind][2];\n",
       "        var method_name = mpl.toolbar_items[toolbar_ind][3];\n",
       "\n",
       "        if (!name) { continue; };\n",
       "\n",
       "        var button = $('<button class=\"btn btn-default\" href=\"#\" title=\"' + name + '\"><i class=\"fa ' + image + ' fa-lg\"></i></button>');\n",
       "        button.click(method_name, toolbar_event);\n",
       "        button.mouseover(tooltip, toolbar_mouse_event);\n",
       "        nav_element.append(button);\n",
       "    }\n",
       "\n",
       "    // Add the status bar.\n",
       "    var status_bar = $('<span class=\"mpl-message\" style=\"text-align:right; float: right;\"/>');\n",
       "    nav_element.append(status_bar);\n",
       "    this.message = status_bar[0];\n",
       "\n",
       "    // Add the close button to the window.\n",
       "    var buttongrp = $('<div class=\"btn-group inline pull-right\"></div>');\n",
       "    var button = $('<button class=\"btn btn-mini btn-primary\" href=\"#\" title=\"Stop Interaction\"><i class=\"fa fa-power-off icon-remove icon-large\"></i></button>');\n",
       "    button.click(function (evt) { fig.handle_close(fig, {}); } );\n",
       "    button.mouseover('Stop Interaction', toolbar_mouse_event);\n",
       "    buttongrp.append(button);\n",
       "    var titlebar = this.root.find($('.ui-dialog-titlebar'));\n",
       "    titlebar.prepend(buttongrp);\n",
       "}\n",
       "\n",
       "mpl.figure.prototype._root_extra_style = function(el){\n",
       "    var fig = this\n",
       "    el.on(\"remove\", function(){\n",
       "\tfig.close_ws(fig, {});\n",
       "    });\n",
       "}\n",
       "\n",
       "mpl.figure.prototype._canvas_extra_style = function(el){\n",
       "    // this is important to make the div 'focusable\n",
       "    el.attr('tabindex', 0)\n",
       "    // reach out to IPython and tell the keyboard manager to turn it's self\n",
       "    // off when our div gets focus\n",
       "\n",
       "    // location in version 3\n",
       "    if (IPython.notebook.keyboard_manager) {\n",
       "        IPython.notebook.keyboard_manager.register_events(el);\n",
       "    }\n",
       "    else {\n",
       "        // location in version 2\n",
       "        IPython.keyboard_manager.register_events(el);\n",
       "    }\n",
       "\n",
       "}\n",
       "\n",
       "mpl.figure.prototype._key_event_extra = function(event, name) {\n",
       "    var manager = IPython.notebook.keyboard_manager;\n",
       "    if (!manager)\n",
       "        manager = IPython.keyboard_manager;\n",
       "\n",
       "    // Check for shift+enter\n",
       "    if (event.shiftKey && event.which == 13) {\n",
       "        this.canvas_div.blur();\n",
       "        event.shiftKey = false;\n",
       "        // Send a \"J\" for go to next cell\n",
       "        event.which = 74;\n",
       "        event.keyCode = 74;\n",
       "        manager.command_mode();\n",
       "        manager.handle_keydown(event);\n",
       "    }\n",
       "}\n",
       "\n",
       "mpl.figure.prototype.handle_save = function(fig, msg) {\n",
       "    fig.ondownload(fig, null);\n",
       "}\n",
       "\n",
       "\n",
       "mpl.find_output_cell = function(html_output) {\n",
       "    // Return the cell and output element which can be found *uniquely* in the notebook.\n",
       "    // Note - this is a bit hacky, but it is done because the \"notebook_saving.Notebook\"\n",
       "    // IPython event is triggered only after the cells have been serialised, which for\n",
       "    // our purposes (turning an active figure into a static one), is too late.\n",
       "    var cells = IPython.notebook.get_cells();\n",
       "    var ncells = cells.length;\n",
       "    for (var i=0; i<ncells; i++) {\n",
       "        var cell = cells[i];\n",
       "        if (cell.cell_type === 'code'){\n",
       "            for (var j=0; j<cell.output_area.outputs.length; j++) {\n",
       "                var data = cell.output_area.outputs[j];\n",
       "                if (data.data) {\n",
       "                    // IPython >= 3 moved mimebundle to data attribute of output\n",
       "                    data = data.data;\n",
       "                }\n",
       "                if (data['text/html'] == html_output) {\n",
       "                    return [cell, data, j];\n",
       "                }\n",
       "            }\n",
       "        }\n",
       "    }\n",
       "}\n",
       "\n",
       "// Register the function which deals with the matplotlib target/channel.\n",
       "// The kernel may be null if the page has been refreshed.\n",
       "if (IPython.notebook.kernel != null) {\n",
       "    IPython.notebook.kernel.comm_manager.register_target('matplotlib', mpl.mpl_figure_comm);\n",
       "}\n"
      ],
      "text/plain": [
       "<IPython.core.display.Javascript object>"
      ]
     },
     "metadata": {},
     "output_type": "display_data"
    },
    {
     "data": {
      "text/html": [
       "<img src=\"data:image/png;base64,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\" width=\"640\">"
      ],
      "text/plain": [
       "<IPython.core.display.HTML object>"
      ]
     },
     "metadata": {},
     "output_type": "display_data"
    }
   ],
   "source": [
    "import math\n",
    "import numpy as np\n",
    "from scipy.integrate import odeint\n",
    "from matplotlib import pyplot as plt\n",
    "\n",
    "%matplotlib notebook\n",
    "\n",
    "h = 1.8\n",
    "v0 = 38\n",
    "m = 4\n",
    "R = 0.05 # radius of shot put\n",
    "C = 0.47\n",
    "rho = 1.225 # density of air\n",
    "g = 9.81\n",
    "\n",
    "# initial conditions for the system\n",
    "def U0(theta0):\n",
    "    r0 = np.array((0, h))\n",
    "    p0 = m*v0*np.array((math.cos(math.radians(theta0)), math.sin(math.radians(theta0))))\n",
    "    \n",
    "    # odeint only works on one-dimensional arrays\n",
    "    return np.array((r0, p0)).flatten()\n",
    "\n",
    "def dU_dt(U, t):\n",
    "    r, p = U[0:2], U[2:4]\n",
    "    \n",
    "    # velocity vector\n",
    "    v = p / m\n",
    "    \n",
    "    # definition of velocity\n",
    "    dr = v\n",
    "    \n",
    "    # gravitational force on the shot put\n",
    "    Fg = np.array((0, -m*g))\n",
    "    \n",
    "    # drag force\n",
    "    def drag(v):\n",
    "        return 0.5*C*rho*math.pi*R**2*v**2\n",
    "        \n",
    "    Fd = - np.array((drag(v[0]), drag(v[1]))) # drag force vector\n",
    "    \n",
    "    # total force on the shot put\n",
    "    F = Fg + Fd\n",
    "    \n",
    "    # the rate of change of momentum equals force\n",
    "    dp = F\n",
    "    \n",
    "    return np.array((dr, dp)).flatten()\n",
    "\n",
    "t_range = (0, 6)\n",
    "plt.figure('Shot put trajectory')\n",
    "plt.xlabel('$x(t)$', fontsize = 12)\n",
    "plt.ylabel('$y(t)$', fontsize = 12, labelpad = 16).set_rotation(0)\n",
    "plt.grid(True)\n",
    "plt.xlim(0, 150)\n",
    "plt.ylim(0, 45) # cut of the trajectory below the ground\n",
    "\n",
    "t = np.linspace(*t_range, 12800) # the * operator unpacks the tuple\n",
    "\n",
    "def computeRange(r): # compute the range, given the trajectory\n",
    "    m, n = np.shape(r)\n",
    "    for j in range(n):\n",
    "        # the first negative y-value you find, return the x-value\n",
    "        if r[1, j] < 0:\n",
    "            return r[0, j]\n",
    "    return r[0, -1] # if no negative y-value found, return the final x-value\n",
    "\n",
    "for theta0 in [40, 44, 45, 46, 50]:\n",
    "    U = odeint(dU_dt, U0(theta0), t).T # transpose the array\n",
    "\n",
    "    # unpack the odeint solution into the position and momentum vectors\n",
    "    r, p = U[0:2], U[2:4]\n",
    "    \n",
    "    plt.plot(*r, label = r'$\\theta_0=$' + str(theta0)\n",
    "             + ' degrees (range ' + str(round(computeRange(r),2)) + ' m)')\n",
    "\n",
    "plt.legend(loc = 'lower left')\n",
    "plt.show()"
   ]
  },
  {
   "cell_type": "markdown",
   "metadata": {},
   "source": [
    "**(b)** [*Difficult problem*] Programmatically compute the range for many different values of $\\theta_0$ and hence find an approximation for the optimal $\\theta_0$."
   ]
  },
  {
   "cell_type": "code",
   "execution_count": 43,
   "metadata": {},
   "outputs": [
    {
     "data": {
      "application/javascript": [
       "/* Put everything inside the global mpl namespace */\n",
       "window.mpl = {};\n",
       "\n",
       "\n",
       "mpl.get_websocket_type = function() {\n",
       "    if (typeof(WebSocket) !== 'undefined') {\n",
       "        return WebSocket;\n",
       "    } else if (typeof(MozWebSocket) !== 'undefined') {\n",
       "        return MozWebSocket;\n",
       "    } else {\n",
       "        alert('Your browser does not have WebSocket support.' +\n",
       "              'Please try Chrome, Safari or Firefox ≥ 6. ' +\n",
       "              'Firefox 4 and 5 are also supported but you ' +\n",
       "              'have to enable WebSockets in about:config.');\n",
       "    };\n",
       "}\n",
       "\n",
       "mpl.figure = function(figure_id, websocket, ondownload, parent_element) {\n",
       "    this.id = figure_id;\n",
       "\n",
       "    this.ws = websocket;\n",
       "\n",
       "    this.supports_binary = (this.ws.binaryType != undefined);\n",
       "\n",
       "    if (!this.supports_binary) {\n",
       "        var warnings = document.getElementById(\"mpl-warnings\");\n",
       "        if (warnings) {\n",
       "            warnings.style.display = 'block';\n",
       "            warnings.textContent = (\n",
       "                \"This browser does not support binary websocket messages. \" +\n",
       "                    \"Performance may be slow.\");\n",
       "        }\n",
       "    }\n",
       "\n",
       "    this.imageObj = new Image();\n",
       "\n",
       "    this.context = undefined;\n",
       "    this.message = undefined;\n",
       "    this.canvas = undefined;\n",
       "    this.rubberband_canvas = undefined;\n",
       "    this.rubberband_context = undefined;\n",
       "    this.format_dropdown = undefined;\n",
       "\n",
       "    this.image_mode = 'full';\n",
       "\n",
       "    this.root = $('<div/>');\n",
       "    this._root_extra_style(this.root)\n",
       "    this.root.attr('style', 'display: inline-block');\n",
       "\n",
       "    $(parent_element).append(this.root);\n",
       "\n",
       "    this._init_header(this);\n",
       "    this._init_canvas(this);\n",
       "    this._init_toolbar(this);\n",
       "\n",
       "    var fig = this;\n",
       "\n",
       "    this.waiting = false;\n",
       "\n",
       "    this.ws.onopen =  function () {\n",
       "            fig.send_message(\"supports_binary\", {value: fig.supports_binary});\n",
       "            fig.send_message(\"send_image_mode\", {});\n",
       "            if (mpl.ratio != 1) {\n",
       "                fig.send_message(\"set_dpi_ratio\", {'dpi_ratio': mpl.ratio});\n",
       "            }\n",
       "            fig.send_message(\"refresh\", {});\n",
       "        }\n",
       "\n",
       "    this.imageObj.onload = function() {\n",
       "            if (fig.image_mode == 'full') {\n",
       "                // Full images could contain transparency (where diff images\n",
       "                // almost always do), so we need to clear the canvas so that\n",
       "                // there is no ghosting.\n",
       "                fig.context.clearRect(0, 0, fig.canvas.width, fig.canvas.height);\n",
       "            }\n",
       "            fig.context.drawImage(fig.imageObj, 0, 0);\n",
       "        };\n",
       "\n",
       "    this.imageObj.onunload = function() {\n",
       "        fig.ws.close();\n",
       "    }\n",
       "\n",
       "    this.ws.onmessage = this._make_on_message_function(this);\n",
       "\n",
       "    this.ondownload = ondownload;\n",
       "}\n",
       "\n",
       "mpl.figure.prototype._init_header = function() {\n",
       "    var titlebar = $(\n",
       "        '<div class=\"ui-dialog-titlebar ui-widget-header ui-corner-all ' +\n",
       "        'ui-helper-clearfix\"/>');\n",
       "    var titletext = $(\n",
       "        '<div class=\"ui-dialog-title\" style=\"width: 100%; ' +\n",
       "        'text-align: center; padding: 3px;\"/>');\n",
       "    titlebar.append(titletext)\n",
       "    this.root.append(titlebar);\n",
       "    this.header = titletext[0];\n",
       "}\n",
       "\n",
       "\n",
       "\n",
       "mpl.figure.prototype._canvas_extra_style = function(canvas_div) {\n",
       "\n",
       "}\n",
       "\n",
       "\n",
       "mpl.figure.prototype._root_extra_style = function(canvas_div) {\n",
       "\n",
       "}\n",
       "\n",
       "mpl.figure.prototype._init_canvas = function() {\n",
       "    var fig = this;\n",
       "\n",
       "    var canvas_div = $('<div/>');\n",
       "\n",
       "    canvas_div.attr('style', 'position: relative; clear: both; outline: 0');\n",
       "\n",
       "    function canvas_keyboard_event(event) {\n",
       "        return fig.key_event(event, event['data']);\n",
       "    }\n",
       "\n",
       "    canvas_div.keydown('key_press', canvas_keyboard_event);\n",
       "    canvas_div.keyup('key_release', canvas_keyboard_event);\n",
       "    this.canvas_div = canvas_div\n",
       "    this._canvas_extra_style(canvas_div)\n",
       "    this.root.append(canvas_div);\n",
       "\n",
       "    var canvas = $('<canvas/>');\n",
       "    canvas.addClass('mpl-canvas');\n",
       "    canvas.attr('style', \"left: 0; top: 0; z-index: 0; outline: 0\")\n",
       "\n",
       "    this.canvas = canvas[0];\n",
       "    this.context = canvas[0].getContext(\"2d\");\n",
       "\n",
       "    var backingStore = this.context.backingStorePixelRatio ||\n",
       "\tthis.context.webkitBackingStorePixelRatio ||\n",
       "\tthis.context.mozBackingStorePixelRatio ||\n",
       "\tthis.context.msBackingStorePixelRatio ||\n",
       "\tthis.context.oBackingStorePixelRatio ||\n",
       "\tthis.context.backingStorePixelRatio || 1;\n",
       "\n",
       "    mpl.ratio = (window.devicePixelRatio || 1) / backingStore;\n",
       "\n",
       "    var rubberband = $('<canvas/>');\n",
       "    rubberband.attr('style', \"position: absolute; left: 0; top: 0; z-index: 1;\")\n",
       "\n",
       "    var pass_mouse_events = true;\n",
       "\n",
       "    canvas_div.resizable({\n",
       "        start: function(event, ui) {\n",
       "            pass_mouse_events = false;\n",
       "        },\n",
       "        resize: function(event, ui) {\n",
       "            fig.request_resize(ui.size.width, ui.size.height);\n",
       "        },\n",
       "        stop: function(event, ui) {\n",
       "            pass_mouse_events = true;\n",
       "            fig.request_resize(ui.size.width, ui.size.height);\n",
       "        },\n",
       "    });\n",
       "\n",
       "    function mouse_event_fn(event) {\n",
       "        if (pass_mouse_events)\n",
       "            return fig.mouse_event(event, event['data']);\n",
       "    }\n",
       "\n",
       "    rubberband.mousedown('button_press', mouse_event_fn);\n",
       "    rubberband.mouseup('button_release', mouse_event_fn);\n",
       "    // Throttle sequential mouse events to 1 every 20ms.\n",
       "    rubberband.mousemove('motion_notify', mouse_event_fn);\n",
       "\n",
       "    rubberband.mouseenter('figure_enter', mouse_event_fn);\n",
       "    rubberband.mouseleave('figure_leave', mouse_event_fn);\n",
       "\n",
       "    canvas_div.on(\"wheel\", function (event) {\n",
       "        event = event.originalEvent;\n",
       "        event['data'] = 'scroll'\n",
       "        if (event.deltaY < 0) {\n",
       "            event.step = 1;\n",
       "        } else {\n",
       "            event.step = -1;\n",
       "        }\n",
       "        mouse_event_fn(event);\n",
       "    });\n",
       "\n",
       "    canvas_div.append(canvas);\n",
       "    canvas_div.append(rubberband);\n",
       "\n",
       "    this.rubberband = rubberband;\n",
       "    this.rubberband_canvas = rubberband[0];\n",
       "    this.rubberband_context = rubberband[0].getContext(\"2d\");\n",
       "    this.rubberband_context.strokeStyle = \"#000000\";\n",
       "\n",
       "    this._resize_canvas = function(width, height) {\n",
       "        // Keep the size of the canvas, canvas container, and rubber band\n",
       "        // canvas in synch.\n",
       "        canvas_div.css('width', width)\n",
       "        canvas_div.css('height', height)\n",
       "\n",
       "        canvas.attr('width', width * mpl.ratio);\n",
       "        canvas.attr('height', height * mpl.ratio);\n",
       "        canvas.attr('style', 'width: ' + width + 'px; height: ' + height + 'px;');\n",
       "\n",
       "        rubberband.attr('width', width);\n",
       "        rubberband.attr('height', height);\n",
       "    }\n",
       "\n",
       "    // Set the figure to an initial 600x600px, this will subsequently be updated\n",
       "    // upon first draw.\n",
       "    this._resize_canvas(600, 600);\n",
       "\n",
       "    // Disable right mouse context menu.\n",
       "    $(this.rubberband_canvas).bind(\"contextmenu\",function(e){\n",
       "        return false;\n",
       "    });\n",
       "\n",
       "    function set_focus () {\n",
       "        canvas.focus();\n",
       "        canvas_div.focus();\n",
       "    }\n",
       "\n",
       "    window.setTimeout(set_focus, 100);\n",
       "}\n",
       "\n",
       "mpl.figure.prototype._init_toolbar = function() {\n",
       "    var fig = this;\n",
       "\n",
       "    var nav_element = $('<div/>')\n",
       "    nav_element.attr('style', 'width: 100%');\n",
       "    this.root.append(nav_element);\n",
       "\n",
       "    // Define a callback function for later on.\n",
       "    function toolbar_event(event) {\n",
       "        return fig.toolbar_button_onclick(event['data']);\n",
       "    }\n",
       "    function toolbar_mouse_event(event) {\n",
       "        return fig.toolbar_button_onmouseover(event['data']);\n",
       "    }\n",
       "\n",
       "    for(var toolbar_ind in mpl.toolbar_items) {\n",
       "        var name = mpl.toolbar_items[toolbar_ind][0];\n",
       "        var tooltip = mpl.toolbar_items[toolbar_ind][1];\n",
       "        var image = mpl.toolbar_items[toolbar_ind][2];\n",
       "        var method_name = mpl.toolbar_items[toolbar_ind][3];\n",
       "\n",
       "        if (!name) {\n",
       "            // put a spacer in here.\n",
       "            continue;\n",
       "        }\n",
       "        var button = $('<button/>');\n",
       "        button.addClass('ui-button ui-widget ui-state-default ui-corner-all ' +\n",
       "                        'ui-button-icon-only');\n",
       "        button.attr('role', 'button');\n",
       "        button.attr('aria-disabled', 'false');\n",
       "        button.click(method_name, toolbar_event);\n",
       "        button.mouseover(tooltip, toolbar_mouse_event);\n",
       "\n",
       "        var icon_img = $('<span/>');\n",
       "        icon_img.addClass('ui-button-icon-primary ui-icon');\n",
       "        icon_img.addClass(image);\n",
       "        icon_img.addClass('ui-corner-all');\n",
       "\n",
       "        var tooltip_span = $('<span/>');\n",
       "        tooltip_span.addClass('ui-button-text');\n",
       "        tooltip_span.html(tooltip);\n",
       "\n",
       "        button.append(icon_img);\n",
       "        button.append(tooltip_span);\n",
       "\n",
       "        nav_element.append(button);\n",
       "    }\n",
       "\n",
       "    var fmt_picker_span = $('<span/>');\n",
       "\n",
       "    var fmt_picker = $('<select/>');\n",
       "    fmt_picker.addClass('mpl-toolbar-option ui-widget ui-widget-content');\n",
       "    fmt_picker_span.append(fmt_picker);\n",
       "    nav_element.append(fmt_picker_span);\n",
       "    this.format_dropdown = fmt_picker[0];\n",
       "\n",
       "    for (var ind in mpl.extensions) {\n",
       "        var fmt = mpl.extensions[ind];\n",
       "        var option = $(\n",
       "            '<option/>', {selected: fmt === mpl.default_extension}).html(fmt);\n",
       "        fmt_picker.append(option)\n",
       "    }\n",
       "\n",
       "    // Add hover states to the ui-buttons\n",
       "    $( \".ui-button\" ).hover(\n",
       "        function() { $(this).addClass(\"ui-state-hover\");},\n",
       "        function() { $(this).removeClass(\"ui-state-hover\");}\n",
       "    );\n",
       "\n",
       "    var status_bar = $('<span class=\"mpl-message\"/>');\n",
       "    nav_element.append(status_bar);\n",
       "    this.message = status_bar[0];\n",
       "}\n",
       "\n",
       "mpl.figure.prototype.request_resize = function(x_pixels, y_pixels) {\n",
       "    // Request matplotlib to resize the figure. Matplotlib will then trigger a resize in the client,\n",
       "    // which will in turn request a refresh of the image.\n",
       "    this.send_message('resize', {'width': x_pixels, 'height': y_pixels});\n",
       "}\n",
       "\n",
       "mpl.figure.prototype.send_message = function(type, properties) {\n",
       "    properties['type'] = type;\n",
       "    properties['figure_id'] = this.id;\n",
       "    this.ws.send(JSON.stringify(properties));\n",
       "}\n",
       "\n",
       "mpl.figure.prototype.send_draw_message = function() {\n",
       "    if (!this.waiting) {\n",
       "        this.waiting = true;\n",
       "        this.ws.send(JSON.stringify({type: \"draw\", figure_id: this.id}));\n",
       "    }\n",
       "}\n",
       "\n",
       "\n",
       "mpl.figure.prototype.handle_save = function(fig, msg) {\n",
       "    var format_dropdown = fig.format_dropdown;\n",
       "    var format = format_dropdown.options[format_dropdown.selectedIndex].value;\n",
       "    fig.ondownload(fig, format);\n",
       "}\n",
       "\n",
       "\n",
       "mpl.figure.prototype.handle_resize = function(fig, msg) {\n",
       "    var size = msg['size'];\n",
       "    if (size[0] != fig.canvas.width || size[1] != fig.canvas.height) {\n",
       "        fig._resize_canvas(size[0], size[1]);\n",
       "        fig.send_message(\"refresh\", {});\n",
       "    };\n",
       "}\n",
       "\n",
       "mpl.figure.prototype.handle_rubberband = function(fig, msg) {\n",
       "    var x0 = msg['x0'] / mpl.ratio;\n",
       "    var y0 = (fig.canvas.height - msg['y0']) / mpl.ratio;\n",
       "    var x1 = msg['x1'] / mpl.ratio;\n",
       "    var y1 = (fig.canvas.height - msg['y1']) / mpl.ratio;\n",
       "    x0 = Math.floor(x0) + 0.5;\n",
       "    y0 = Math.floor(y0) + 0.5;\n",
       "    x1 = Math.floor(x1) + 0.5;\n",
       "    y1 = Math.floor(y1) + 0.5;\n",
       "    var min_x = Math.min(x0, x1);\n",
       "    var min_y = Math.min(y0, y1);\n",
       "    var width = Math.abs(x1 - x0);\n",
       "    var height = Math.abs(y1 - y0);\n",
       "\n",
       "    fig.rubberband_context.clearRect(\n",
       "        0, 0, fig.canvas.width, fig.canvas.height);\n",
       "\n",
       "    fig.rubberband_context.strokeRect(min_x, min_y, width, height);\n",
       "}\n",
       "\n",
       "mpl.figure.prototype.handle_figure_label = function(fig, msg) {\n",
       "    // Updates the figure title.\n",
       "    fig.header.textContent = msg['label'];\n",
       "}\n",
       "\n",
       "mpl.figure.prototype.handle_cursor = function(fig, msg) {\n",
       "    var cursor = msg['cursor'];\n",
       "    switch(cursor)\n",
       "    {\n",
       "    case 0:\n",
       "        cursor = 'pointer';\n",
       "        break;\n",
       "    case 1:\n",
       "        cursor = 'default';\n",
       "        break;\n",
       "    case 2:\n",
       "        cursor = 'crosshair';\n",
       "        break;\n",
       "    case 3:\n",
       "        cursor = 'move';\n",
       "        break;\n",
       "    }\n",
       "    fig.rubberband_canvas.style.cursor = cursor;\n",
       "}\n",
       "\n",
       "mpl.figure.prototype.handle_message = function(fig, msg) {\n",
       "    fig.message.textContent = msg['message'];\n",
       "}\n",
       "\n",
       "mpl.figure.prototype.handle_draw = function(fig, msg) {\n",
       "    // Request the server to send over a new figure.\n",
       "    fig.send_draw_message();\n",
       "}\n",
       "\n",
       "mpl.figure.prototype.handle_image_mode = function(fig, msg) {\n",
       "    fig.image_mode = msg['mode'];\n",
       "}\n",
       "\n",
       "mpl.figure.prototype.updated_canvas_event = function() {\n",
       "    // Called whenever the canvas gets updated.\n",
       "    this.send_message(\"ack\", {});\n",
       "}\n",
       "\n",
       "// A function to construct a web socket function for onmessage handling.\n",
       "// Called in the figure constructor.\n",
       "mpl.figure.prototype._make_on_message_function = function(fig) {\n",
       "    return function socket_on_message(evt) {\n",
       "        if (evt.data instanceof Blob) {\n",
       "            /* FIXME: We get \"Resource interpreted as Image but\n",
       "             * transferred with MIME type text/plain:\" errors on\n",
       "             * Chrome.  But how to set the MIME type?  It doesn't seem\n",
       "             * to be part of the websocket stream */\n",
       "            evt.data.type = \"image/png\";\n",
       "\n",
       "            /* Free the memory for the previous frames */\n",
       "            if (fig.imageObj.src) {\n",
       "                (window.URL || window.webkitURL).revokeObjectURL(\n",
       "                    fig.imageObj.src);\n",
       "            }\n",
       "\n",
       "            fig.imageObj.src = (window.URL || window.webkitURL).createObjectURL(\n",
       "                evt.data);\n",
       "            fig.updated_canvas_event();\n",
       "            fig.waiting = false;\n",
       "            return;\n",
       "        }\n",
       "        else if (typeof evt.data === 'string' && evt.data.slice(0, 21) == \"data:image/png;base64\") {\n",
       "            fig.imageObj.src = evt.data;\n",
       "            fig.updated_canvas_event();\n",
       "            fig.waiting = false;\n",
       "            return;\n",
       "        }\n",
       "\n",
       "        var msg = JSON.parse(evt.data);\n",
       "        var msg_type = msg['type'];\n",
       "\n",
       "        // Call the  \"handle_{type}\" callback, which takes\n",
       "        // the figure and JSON message as its only arguments.\n",
       "        try {\n",
       "            var callback = fig[\"handle_\" + msg_type];\n",
       "        } catch (e) {\n",
       "            console.log(\"No handler for the '\" + msg_type + \"' message type: \", msg);\n",
       "            return;\n",
       "        }\n",
       "\n",
       "        if (callback) {\n",
       "            try {\n",
       "                // console.log(\"Handling '\" + msg_type + \"' message: \", msg);\n",
       "                callback(fig, msg);\n",
       "            } catch (e) {\n",
       "                console.log(\"Exception inside the 'handler_\" + msg_type + \"' callback:\", e, e.stack, msg);\n",
       "            }\n",
       "        }\n",
       "    };\n",
       "}\n",
       "\n",
       "// from http://stackoverflow.com/questions/1114465/getting-mouse-location-in-canvas\n",
       "mpl.findpos = function(e) {\n",
       "    //this section is from http://www.quirksmode.org/js/events_properties.html\n",
       "    var targ;\n",
       "    if (!e)\n",
       "        e = window.event;\n",
       "    if (e.target)\n",
       "        targ = e.target;\n",
       "    else if (e.srcElement)\n",
       "        targ = e.srcElement;\n",
       "    if (targ.nodeType == 3) // defeat Safari bug\n",
       "        targ = targ.parentNode;\n",
       "\n",
       "    // jQuery normalizes the pageX and pageY\n",
       "    // pageX,Y are the mouse positions relative to the document\n",
       "    // offset() returns the position of the element relative to the document\n",
       "    var x = e.pageX - $(targ).offset().left;\n",
       "    var y = e.pageY - $(targ).offset().top;\n",
       "\n",
       "    return {\"x\": x, \"y\": y};\n",
       "};\n",
       "\n",
       "/*\n",
       " * return a copy of an object with only non-object keys\n",
       " * we need this to avoid circular references\n",
       " * http://stackoverflow.com/a/24161582/3208463\n",
       " */\n",
       "function simpleKeys (original) {\n",
       "  return Object.keys(original).reduce(function (obj, key) {\n",
       "    if (typeof original[key] !== 'object')\n",
       "        obj[key] = original[key]\n",
       "    return obj;\n",
       "  }, {});\n",
       "}\n",
       "\n",
       "mpl.figure.prototype.mouse_event = function(event, name) {\n",
       "    var canvas_pos = mpl.findpos(event)\n",
       "\n",
       "    if (name === 'button_press')\n",
       "    {\n",
       "        this.canvas.focus();\n",
       "        this.canvas_div.focus();\n",
       "    }\n",
       "\n",
       "    var x = canvas_pos.x * mpl.ratio;\n",
       "    var y = canvas_pos.y * mpl.ratio;\n",
       "\n",
       "    this.send_message(name, {x: x, y: y, button: event.button,\n",
       "                             step: event.step,\n",
       "                             guiEvent: simpleKeys(event)});\n",
       "\n",
       "    /* This prevents the web browser from automatically changing to\n",
       "     * the text insertion cursor when the button is pressed.  We want\n",
       "     * to control all of the cursor setting manually through the\n",
       "     * 'cursor' event from matplotlib */\n",
       "    event.preventDefault();\n",
       "    return false;\n",
       "}\n",
       "\n",
       "mpl.figure.prototype._key_event_extra = function(event, name) {\n",
       "    // Handle any extra behaviour associated with a key event\n",
       "}\n",
       "\n",
       "mpl.figure.prototype.key_event = function(event, name) {\n",
       "\n",
       "    // Prevent repeat events\n",
       "    if (name == 'key_press')\n",
       "    {\n",
       "        if (event.which === this._key)\n",
       "            return;\n",
       "        else\n",
       "            this._key = event.which;\n",
       "    }\n",
       "    if (name == 'key_release')\n",
       "        this._key = null;\n",
       "\n",
       "    var value = '';\n",
       "    if (event.ctrlKey && event.which != 17)\n",
       "        value += \"ctrl+\";\n",
       "    if (event.altKey && event.which != 18)\n",
       "        value += \"alt+\";\n",
       "    if (event.shiftKey && event.which != 16)\n",
       "        value += \"shift+\";\n",
       "\n",
       "    value += 'k';\n",
       "    value += event.which.toString();\n",
       "\n",
       "    this._key_event_extra(event, name);\n",
       "\n",
       "    this.send_message(name, {key: value,\n",
       "                             guiEvent: simpleKeys(event)});\n",
       "    return false;\n",
       "}\n",
       "\n",
       "mpl.figure.prototype.toolbar_button_onclick = function(name) {\n",
       "    if (name == 'download') {\n",
       "        this.handle_save(this, null);\n",
       "    } else {\n",
       "        this.send_message(\"toolbar_button\", {name: name});\n",
       "    }\n",
       "};\n",
       "\n",
       "mpl.figure.prototype.toolbar_button_onmouseover = function(tooltip) {\n",
       "    this.message.textContent = tooltip;\n",
       "};\n",
       "mpl.toolbar_items = [[\"Home\", \"Reset original view\", \"fa fa-home icon-home\", \"home\"], [\"Back\", \"Back to previous view\", \"fa fa-arrow-left icon-arrow-left\", \"back\"], [\"Forward\", \"Forward to next view\", \"fa fa-arrow-right icon-arrow-right\", \"forward\"], [\"\", \"\", \"\", \"\"], [\"Pan\", \"Pan axes with left mouse, zoom with right\", \"fa fa-arrows icon-move\", \"pan\"], [\"Zoom\", \"Zoom to rectangle\", \"fa fa-square-o icon-check-empty\", \"zoom\"], [\"\", \"\", \"\", \"\"], [\"Download\", \"Download plot\", \"fa fa-floppy-o icon-save\", \"download\"]];\n",
       "\n",
       "mpl.extensions = [\"eps\", \"jpeg\", \"pdf\", \"png\", \"ps\", \"raw\", \"svg\", \"tif\"];\n",
       "\n",
       "mpl.default_extension = \"png\";var comm_websocket_adapter = function(comm) {\n",
       "    // Create a \"websocket\"-like object which calls the given IPython comm\n",
       "    // object with the appropriate methods. Currently this is a non binary\n",
       "    // socket, so there is still some room for performance tuning.\n",
       "    var ws = {};\n",
       "\n",
       "    ws.close = function() {\n",
       "        comm.close()\n",
       "    };\n",
       "    ws.send = function(m) {\n",
       "        //console.log('sending', m);\n",
       "        comm.send(m);\n",
       "    };\n",
       "    // Register the callback with on_msg.\n",
       "    comm.on_msg(function(msg) {\n",
       "        //console.log('receiving', msg['content']['data'], msg);\n",
       "        // Pass the mpl event to the overridden (by mpl) onmessage function.\n",
       "        ws.onmessage(msg['content']['data'])\n",
       "    });\n",
       "    return ws;\n",
       "}\n",
       "\n",
       "mpl.mpl_figure_comm = function(comm, msg) {\n",
       "    // This is the function which gets called when the mpl process\n",
       "    // starts-up an IPython Comm through the \"matplotlib\" channel.\n",
       "\n",
       "    var id = msg.content.data.id;\n",
       "    // Get hold of the div created by the display call when the Comm\n",
       "    // socket was opened in Python.\n",
       "    var element = $(\"#\" + id);\n",
       "    var ws_proxy = comm_websocket_adapter(comm)\n",
       "\n",
       "    function ondownload(figure, format) {\n",
       "        window.open(figure.imageObj.src);\n",
       "    }\n",
       "\n",
       "    var fig = new mpl.figure(id, ws_proxy,\n",
       "                           ondownload,\n",
       "                           element.get(0));\n",
       "\n",
       "    // Call onopen now - mpl needs it, as it is assuming we've passed it a real\n",
       "    // web socket which is closed, not our websocket->open comm proxy.\n",
       "    ws_proxy.onopen();\n",
       "\n",
       "    fig.parent_element = element.get(0);\n",
       "    fig.cell_info = mpl.find_output_cell(\"<div id='\" + id + \"'></div>\");\n",
       "    if (!fig.cell_info) {\n",
       "        console.error(\"Failed to find cell for figure\", id, fig);\n",
       "        return;\n",
       "    }\n",
       "\n",
       "    var output_index = fig.cell_info[2]\n",
       "    var cell = fig.cell_info[0];\n",
       "\n",
       "};\n",
       "\n",
       "mpl.figure.prototype.handle_close = function(fig, msg) {\n",
       "    var width = fig.canvas.width/mpl.ratio\n",
       "    fig.root.unbind('remove')\n",
       "\n",
       "    // Update the output cell to use the data from the current canvas.\n",
       "    fig.push_to_output();\n",
       "    var dataURL = fig.canvas.toDataURL();\n",
       "    // Re-enable the keyboard manager in IPython - without this line, in FF,\n",
       "    // the notebook keyboard shortcuts fail.\n",
       "    IPython.keyboard_manager.enable()\n",
       "    $(fig.parent_element).html('<img src=\"' + dataURL + '\" width=\"' + width + '\">');\n",
       "    fig.close_ws(fig, msg);\n",
       "}\n",
       "\n",
       "mpl.figure.prototype.close_ws = function(fig, msg){\n",
       "    fig.send_message('closing', msg);\n",
       "    // fig.ws.close()\n",
       "}\n",
       "\n",
       "mpl.figure.prototype.push_to_output = function(remove_interactive) {\n",
       "    // Turn the data on the canvas into data in the output cell.\n",
       "    var width = this.canvas.width/mpl.ratio\n",
       "    var dataURL = this.canvas.toDataURL();\n",
       "    this.cell_info[1]['text/html'] = '<img src=\"' + dataURL + '\" width=\"' + width + '\">';\n",
       "}\n",
       "\n",
       "mpl.figure.prototype.updated_canvas_event = function() {\n",
       "    // Tell IPython that the notebook contents must change.\n",
       "    IPython.notebook.set_dirty(true);\n",
       "    this.send_message(\"ack\", {});\n",
       "    var fig = this;\n",
       "    // Wait a second, then push the new image to the DOM so\n",
       "    // that it is saved nicely (might be nice to debounce this).\n",
       "    setTimeout(function () { fig.push_to_output() }, 1000);\n",
       "}\n",
       "\n",
       "mpl.figure.prototype._init_toolbar = function() {\n",
       "    var fig = this;\n",
       "\n",
       "    var nav_element = $('<div/>')\n",
       "    nav_element.attr('style', 'width: 100%');\n",
       "    this.root.append(nav_element);\n",
       "\n",
       "    // Define a callback function for later on.\n",
       "    function toolbar_event(event) {\n",
       "        return fig.toolbar_button_onclick(event['data']);\n",
       "    }\n",
       "    function toolbar_mouse_event(event) {\n",
       "        return fig.toolbar_button_onmouseover(event['data']);\n",
       "    }\n",
       "\n",
       "    for(var toolbar_ind in mpl.toolbar_items){\n",
       "        var name = mpl.toolbar_items[toolbar_ind][0];\n",
       "        var tooltip = mpl.toolbar_items[toolbar_ind][1];\n",
       "        var image = mpl.toolbar_items[toolbar_ind][2];\n",
       "        var method_name = mpl.toolbar_items[toolbar_ind][3];\n",
       "\n",
       "        if (!name) { continue; };\n",
       "\n",
       "        var button = $('<button class=\"btn btn-default\" href=\"#\" title=\"' + name + '\"><i class=\"fa ' + image + ' fa-lg\"></i></button>');\n",
       "        button.click(method_name, toolbar_event);\n",
       "        button.mouseover(tooltip, toolbar_mouse_event);\n",
       "        nav_element.append(button);\n",
       "    }\n",
       "\n",
       "    // Add the status bar.\n",
       "    var status_bar = $('<span class=\"mpl-message\" style=\"text-align:right; float: right;\"/>');\n",
       "    nav_element.append(status_bar);\n",
       "    this.message = status_bar[0];\n",
       "\n",
       "    // Add the close button to the window.\n",
       "    var buttongrp = $('<div class=\"btn-group inline pull-right\"></div>');\n",
       "    var button = $('<button class=\"btn btn-mini btn-primary\" href=\"#\" title=\"Stop Interaction\"><i class=\"fa fa-power-off icon-remove icon-large\"></i></button>');\n",
       "    button.click(function (evt) { fig.handle_close(fig, {}); } );\n",
       "    button.mouseover('Stop Interaction', toolbar_mouse_event);\n",
       "    buttongrp.append(button);\n",
       "    var titlebar = this.root.find($('.ui-dialog-titlebar'));\n",
       "    titlebar.prepend(buttongrp);\n",
       "}\n",
       "\n",
       "mpl.figure.prototype._root_extra_style = function(el){\n",
       "    var fig = this\n",
       "    el.on(\"remove\", function(){\n",
       "\tfig.close_ws(fig, {});\n",
       "    });\n",
       "}\n",
       "\n",
       "mpl.figure.prototype._canvas_extra_style = function(el){\n",
       "    // this is important to make the div 'focusable\n",
       "    el.attr('tabindex', 0)\n",
       "    // reach out to IPython and tell the keyboard manager to turn it's self\n",
       "    // off when our div gets focus\n",
       "\n",
       "    // location in version 3\n",
       "    if (IPython.notebook.keyboard_manager) {\n",
       "        IPython.notebook.keyboard_manager.register_events(el);\n",
       "    }\n",
       "    else {\n",
       "        // location in version 2\n",
       "        IPython.keyboard_manager.register_events(el);\n",
       "    }\n",
       "\n",
       "}\n",
       "\n",
       "mpl.figure.prototype._key_event_extra = function(event, name) {\n",
       "    var manager = IPython.notebook.keyboard_manager;\n",
       "    if (!manager)\n",
       "        manager = IPython.keyboard_manager;\n",
       "\n",
       "    // Check for shift+enter\n",
       "    if (event.shiftKey && event.which == 13) {\n",
       "        this.canvas_div.blur();\n",
       "        event.shiftKey = false;\n",
       "        // Send a \"J\" for go to next cell\n",
       "        event.which = 74;\n",
       "        event.keyCode = 74;\n",
       "        manager.command_mode();\n",
       "        manager.handle_keydown(event);\n",
       "    }\n",
       "}\n",
       "\n",
       "mpl.figure.prototype.handle_save = function(fig, msg) {\n",
       "    fig.ondownload(fig, null);\n",
       "}\n",
       "\n",
       "\n",
       "mpl.find_output_cell = function(html_output) {\n",
       "    // Return the cell and output element which can be found *uniquely* in the notebook.\n",
       "    // Note - this is a bit hacky, but it is done because the \"notebook_saving.Notebook\"\n",
       "    // IPython event is triggered only after the cells have been serialised, which for\n",
       "    // our purposes (turning an active figure into a static one), is too late.\n",
       "    var cells = IPython.notebook.get_cells();\n",
       "    var ncells = cells.length;\n",
       "    for (var i=0; i<ncells; i++) {\n",
       "        var cell = cells[i];\n",
       "        if (cell.cell_type === 'code'){\n",
       "            for (var j=0; j<cell.output_area.outputs.length; j++) {\n",
       "                var data = cell.output_area.outputs[j];\n",
       "                if (data.data) {\n",
       "                    // IPython >= 3 moved mimebundle to data attribute of output\n",
       "                    data = data.data;\n",
       "                }\n",
       "                if (data['text/html'] == html_output) {\n",
       "                    return [cell, data, j];\n",
       "                }\n",
       "            }\n",
       "        }\n",
       "    }\n",
       "}\n",
       "\n",
       "// Register the function which deals with the matplotlib target/channel.\n",
       "// The kernel may be null if the page has been refreshed.\n",
       "if (IPython.notebook.kernel != null) {\n",
       "    IPython.notebook.kernel.comm_manager.register_target('matplotlib', mpl.mpl_figure_comm);\n",
       "}\n"
      ],
      "text/plain": [
       "<IPython.core.display.Javascript object>"
      ]
     },
     "metadata": {},
     "output_type": "display_data"
    },
    {
     "data": {
      "text/html": [
       "<img src=\"data:image/png;base64,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\" width=\"640\">"
      ],
      "text/plain": [
       "<IPython.core.display.HTML object>"
      ]
     },
     "metadata": {},
     "output_type": "display_data"
    },
    {
     "name": "stdout",
     "output_type": "stream",
     "text": [
      "Optimal launch angle: 44.24 degrees, Range: 141.25 m\n"
     ]
    }
   ],
   "source": [
    "%matplotlib notebook\n",
    "\n",
    "# list of launch angles\n",
    "angles = np.linspace(40, 50, 100) # 100 different angles between 40 and 50 degrees\n",
    "\n",
    "# construct a corresponding list of ranges\n",
    "ranges = []\n",
    "for theta0 in angles:\n",
    "    U = odeint(dU_dt, U0(theta0), t).T # transpose the array\n",
    "\n",
    "    # unpack the trajectory\n",
    "    r = U[0:2]\n",
    "    \n",
    "    ranges.append(computeRange(r))\n",
    "    \n",
    "plt.figure('Range vs launch angle')\n",
    "plt.xlabel(r'$\\theta_0$', fontsize = 12)\n",
    "plt.ylabel('Range', fontsize = 12)\n",
    "plt.grid(True)\n",
    "\n",
    "plt.plot(angles, ranges)\n",
    "\n",
    "plt.show()\n",
    "\n",
    "# compute the optimal launch angle\n",
    "for i in range(len(angles)):\n",
    "    if ranges[i] == max(ranges):\n",
    "        print('Optimal launch angle:', round(angles[i], 2), 'degrees, Range:', round(ranges[i], 2), 'm')"
   ]
  }
 ],
 "metadata": {
  "kernelspec": {
   "display_name": "Python 3",
   "language": "python",
   "name": "python3"
  },
  "language_info": {
   "codemirror_mode": {
    "name": "ipython",
    "version": 3
   },
   "file_extension": ".py",
   "mimetype": "text/x-python",
   "name": "python",
   "nbconvert_exporter": "python",
   "pygments_lexer": "ipython3",
   "version": "3.7.1"
  }
 },
 "nbformat": 4,
 "nbformat_minor": 2
}
